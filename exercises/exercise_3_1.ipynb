{
 "cells": [
  {
   "cell_type": "markdown",
   "metadata": {},
   "source": [
    "## Exercise 3.1\n",
    "\n",
    "PAru ønsker endvidere en model som forklarer sammenhængen mellem Volumen og pris for konventionelle avokadoer i Albany. \n",
    "\n",
    "![](https://cdn.winsightmedia.com/platform/files/public/gb/June-2012/Peruvian-Avocados-Return-to-the-United-States/PAC-Billboard.jpg)\n",
    "\n",
    "\n",
    "- Fit en model for avocado pris-sættet\n",
    "- Modellen skal lade AveragePrice som funktion af Total volume\n",
    "- Undersøg koefficienter\n",
    "- Plot evt. regressions-linjen\n",
    "\n",
    "$$\n",
    "  \\text{AveragePrice} = \\alpha + \\beta \\cdot \\text{Total Volume} + \\varepsilon, \\quad \\varepsilon \\sim N(0,1)  \n",
    "$$\n"
   ]
  },
  {
   "cell_type": "code",
   "execution_count": null,
   "metadata": {},
   "outputs": [],
   "source": [
    "library(readr)\n",
    "avocados <- read_csv(\"../data/avocado.csv\") %>%\n",
    "  filter(region==\"Albany\") %>% \n",
    "  filter(type==\"conventional\")\n"
   ]
  }
 ],
 "metadata": {
  "kernelspec": {
   "display_name": "R",
   "language": "R",
   "name": "ir"
  },
  "language_info": {
   "codemirror_mode": "r",
   "file_extension": ".r",
   "mimetype": "text/x-r-source",
   "name": "R",
   "pygments_lexer": "r",
   "version": "3.5.2"
  }
 },
 "nbformat": 4,
 "nbformat_minor": 2
}
