{
 "cells": [
  {
   "cell_type": "markdown",
   "metadata": {},
   "source": [
    "# Exercise 2.1\n",
    "\n",
    "PAru står for 13% af den samlede avocado produktion, og de har hyret dig til at redegøre for prisudbviklingen i to af deres større afsætnings områder på den amerikanske øst-kyst, nemlig Boston og Albany.  \n",
    "\n",
    "![](https://cdn.winsightmedia.com/platform/files/public/gb/June-2012/Peruvian-Avocados-Return-to-the-United-States/PAC-Billboard.jpg)\n",
    "\n",
    "Anvend argumenter i plotly så prisen-udviklingen over tid har de faktorer, som redegør for pris-udsving for samme dato.   \n",
    "\n",
    "- Plot prisen på avocadoer over tid for de to stater\n",
    "- overvej håndtering af avocado typen i.e. \"conventional\" and \"organic\"\n",
    "- argumenterne `symbol` og `color` kan bruges\n"
   ]
  },
  {
   "cell_type": "code",
   "execution_count": 6,
   "metadata": {},
   "outputs": [
    {
     "data": {
      "text/html": [
       "<table>\n",
       "<thead><tr><th scope=col>Date</th><th scope=col>AveragePrice</th><th scope=col>total_volume</th><th scope=col>4046</th><th scope=col>4225</th><th scope=col>4770</th><th scope=col>Total Bags</th><th scope=col>Small Bags</th><th scope=col>Large Bags</th><th scope=col>XLarge Bags</th><th scope=col>type</th><th scope=col>year</th><th scope=col>region</th></tr></thead>\n",
       "<tbody>\n",
       "\t<tr><td>2015-12-27  </td><td>1.33        </td><td> 64236.62   </td><td>1036.74     </td><td> 54454.85   </td><td> 48.16      </td><td>8696.87     </td><td>8603.62     </td><td> 93.25      </td><td>0           </td><td>conventional</td><td>2015        </td><td>Albany      </td></tr>\n",
       "\t<tr><td>2015-12-20  </td><td>1.35        </td><td> 54876.98   </td><td> 674.28     </td><td> 44638.81   </td><td> 58.33      </td><td>9505.56     </td><td>9408.07     </td><td> 97.49      </td><td>0           </td><td>conventional</td><td>2015        </td><td>Albany      </td></tr>\n",
       "\t<tr><td>2015-12-13  </td><td>0.93        </td><td>118220.22   </td><td> 794.70     </td><td>109149.67   </td><td>130.50      </td><td>8145.35     </td><td>8042.21     </td><td>103.14      </td><td>0           </td><td>conventional</td><td>2015        </td><td>Albany      </td></tr>\n",
       "\t<tr><td>2015-12-06  </td><td>1.08        </td><td> 78992.15   </td><td>1132.00     </td><td> 71976.41   </td><td> 72.58      </td><td>5811.16     </td><td>5677.40     </td><td>133.76      </td><td>0           </td><td>conventional</td><td>2015        </td><td>Albany      </td></tr>\n",
       "\t<tr><td>2015-11-29  </td><td>1.28        </td><td> 51039.60   </td><td> 941.48     </td><td> 43838.39   </td><td> 75.78      </td><td>6183.95     </td><td>5986.26     </td><td>197.69      </td><td>0           </td><td>conventional</td><td>2015        </td><td>Albany      </td></tr>\n",
       "\t<tr><td>2015-11-22  </td><td>1.26        </td><td> 55979.78   </td><td>1184.27     </td><td> 48067.99   </td><td> 43.61      </td><td>6683.91     </td><td>6556.47     </td><td>127.44      </td><td>0           </td><td>conventional</td><td>2015        </td><td>Albany      </td></tr>\n",
       "</tbody>\n",
       "</table>\n"
      ],
      "text/latex": [
       "\\begin{tabular}{r|lllllllllllll}\n",
       " Date & AveragePrice & total\\_volume & 4046 & 4225 & 4770 & Total Bags & Small Bags & Large Bags & XLarge Bags & type & year & region\\\\\n",
       "\\hline\n",
       "\t 2015-12-27   & 1.33         &  64236.62    & 1036.74      &  54454.85    &  48.16       & 8696.87      & 8603.62      &  93.25       & 0            & conventional & 2015         & Albany      \\\\\n",
       "\t 2015-12-20   & 1.35         &  54876.98    &  674.28      &  44638.81    &  58.33       & 9505.56      & 9408.07      &  97.49       & 0            & conventional & 2015         & Albany      \\\\\n",
       "\t 2015-12-13   & 0.93         & 118220.22    &  794.70      & 109149.67    & 130.50       & 8145.35      & 8042.21      & 103.14       & 0            & conventional & 2015         & Albany      \\\\\n",
       "\t 2015-12-06   & 1.08         &  78992.15    & 1132.00      &  71976.41    &  72.58       & 5811.16      & 5677.40      & 133.76       & 0            & conventional & 2015         & Albany      \\\\\n",
       "\t 2015-11-29   & 1.28         &  51039.60    &  941.48      &  43838.39    &  75.78       & 6183.95      & 5986.26      & 197.69       & 0            & conventional & 2015         & Albany      \\\\\n",
       "\t 2015-11-22   & 1.26         &  55979.78    & 1184.27      &  48067.99    &  43.61       & 6683.91      & 6556.47      & 127.44       & 0            & conventional & 2015         & Albany      \\\\\n",
       "\\end{tabular}\n"
      ],
      "text/markdown": [
       "\n",
       "| Date | AveragePrice | total_volume | 4046 | 4225 | 4770 | Total Bags | Small Bags | Large Bags | XLarge Bags | type | year | region |\n",
       "|---|---|---|---|---|---|---|---|---|---|---|---|---|\n",
       "| 2015-12-27   | 1.33         |  64236.62    | 1036.74      |  54454.85    |  48.16       | 8696.87      | 8603.62      |  93.25       | 0            | conventional | 2015         | Albany       |\n",
       "| 2015-12-20   | 1.35         |  54876.98    |  674.28      |  44638.81    |  58.33       | 9505.56      | 9408.07      |  97.49       | 0            | conventional | 2015         | Albany       |\n",
       "| 2015-12-13   | 0.93         | 118220.22    |  794.70      | 109149.67    | 130.50       | 8145.35      | 8042.21      | 103.14       | 0            | conventional | 2015         | Albany       |\n",
       "| 2015-12-06   | 1.08         |  78992.15    | 1132.00      |  71976.41    |  72.58       | 5811.16      | 5677.40      | 133.76       | 0            | conventional | 2015         | Albany       |\n",
       "| 2015-11-29   | 1.28         |  51039.60    |  941.48      |  43838.39    |  75.78       | 6183.95      | 5986.26      | 197.69       | 0            | conventional | 2015         | Albany       |\n",
       "| 2015-11-22   | 1.26         |  55979.78    | 1184.27      |  48067.99    |  43.61       | 6683.91      | 6556.47      | 127.44       | 0            | conventional | 2015         | Albany       |\n",
       "\n"
      ],
      "text/plain": [
       "  Date       AveragePrice total_volume 4046    4225      4770   Total Bags\n",
       "1 2015-12-27 1.33          64236.62    1036.74  54454.85  48.16 8696.87   \n",
       "2 2015-12-20 1.35          54876.98     674.28  44638.81  58.33 9505.56   \n",
       "3 2015-12-13 0.93         118220.22     794.70 109149.67 130.50 8145.35   \n",
       "4 2015-12-06 1.08          78992.15    1132.00  71976.41  72.58 5811.16   \n",
       "5 2015-11-29 1.28          51039.60     941.48  43838.39  75.78 6183.95   \n",
       "6 2015-11-22 1.26          55979.78    1184.27  48067.99  43.61 6683.91   \n",
       "  Small Bags Large Bags XLarge Bags type         year region\n",
       "1 8603.62     93.25     0           conventional 2015 Albany\n",
       "2 9408.07     97.49     0           conventional 2015 Albany\n",
       "3 8042.21    103.14     0           conventional 2015 Albany\n",
       "4 5677.40    133.76     0           conventional 2015 Albany\n",
       "5 5986.26    197.69     0           conventional 2015 Albany\n",
       "6 6556.47    127.44     0           conventional 2015 Albany"
      ]
     },
     "metadata": {},
     "output_type": "display_data"
    }
   ],
   "source": [
    "library(readr)\n",
    "suppressMessages(library(dplyr))\n",
    "avocados <- read_csv(\"../data/avocado.csv\", col_types = cols())[,-1] %>%\n",
    "  filter(region == \"Boston\" | region == \"Albany\")\n",
    "\n",
    "avocados %>% head(6)"
   ]
  },
  {
   "cell_type": "code",
   "execution_count": null,
   "metadata": {},
   "outputs": [],
   "source": []
  }
 ],
 "metadata": {
  "kernelspec": {
   "display_name": "R",
   "language": "R",
   "name": "ir"
  },
  "language_info": {
   "codemirror_mode": "r",
   "file_extension": ".r",
   "mimetype": "text/x-r-source",
   "name": "R",
   "pygments_lexer": "r",
   "version": "3.5.2"
  }
 },
 "nbformat": 4,
 "nbformat_minor": 2
}
