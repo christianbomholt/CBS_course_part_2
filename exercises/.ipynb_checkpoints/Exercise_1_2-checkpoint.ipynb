{
 "cells": [
  {
   "cell_type": "markdown",
   "metadata": {},
   "source": [
    "## Exercise 1.2\n",
    "\n",
    "![](https://www.greenbiz.com/sites/default/files/styles/gbz_article_featured/public/images/articles/featured/shutterstock_cargo_ship_donvictorio.jpg?itok=IxnIU4zI)\n",
    "\n",
    "\n",
    "#### Shipping data\n",
    "\n",
    "#### Visualize your ships\n",
    "\n",
    "What data are you looking at?\n",
    "\n",
    "- Try to plot \n",
    "\n",
    "```\n",
    "shipping %>%\n",
    "    mutate(lat = lat_start, lon = lon_start) %>% \n",
    "    select(lat,lon) %>%\n",
    "    head(100000) %>% \n",
    "leaflet() %>% addTiles() %>% addMarkers(\n",
    "  clusterOptions = markerClusterOptions()\n",
    "    )\n",
    "``` \n",
    "- Try to plot\n",
    "\n",
    "```\n",
    "greenLeafIcon <- makeIcon(\n",
    "  iconUrl = \"https://static.thenounproject.com/png/368069-200.png\",\n",
    "  iconWidth = 45, iconHeight = 45,\n",
    "  iconAnchorX = 5, iconAnchorY = 5)\n",
    "\n",
    "cities %>%\n",
    "  filter(!is.na(id)) %>% \n",
    "  select(lat,lon,city) %>% \n",
    "leaflet() %>% addTiles() %>% addMarkers(~lon,~lat,icon = greenLeafIcon,\n",
    "                                        popup = ~city, label = ~city)\n",
    "```\n",
    "\n",
    "#### Transformation exercise\n",
    "\n",
    " \n",
    "- Find most sailed route\n",
    "- Look at development year by year in top 6\n",
    "\n",
    "\n",
    "#### Merge exercise\n",
    "\n",
    "- Try to join the information from ships on \n",
    "- Find most sailed routes for danish ships\n"
   ]
  },
  {
   "cell_type": "code",
   "execution_count": 4,
   "metadata": {},
   "outputs": [
    {
     "data": {
      "text/html": [
       "<table>\n",
       "<thead><tr><th scope=col>ship_name</th><th scope=col>callsign</th><th scope=col>major_cruise_line</th><th scope=col>date</th><th scope=col>meters_traveled</th><th scope=col>lat_start</th><th scope=col>lon_start</th><th scope=col>lat_end</th><th scope=col>lon_end</th><th scope=col>in_port</th><th scope=col>stopped_minutes</th><th scope=col>num_periods</th><th scope=col>port_city_id</th><th scope=col>port_city_name</th><th scope=col>port_city_country</th></tr></thead>\n",
       "<tbody>\n",
       "\t<tr><td>Carnival Splendor          </td><td>3EUS                       </td><td>Carnival Cruise Line       </td><td>2013-10-24                 </td><td>147030.32                  </td><td>39.1000                    </td><td>-73.8000                   </td><td>40.4207                    </td><td>-73.7793                   </td><td> TRUE                      </td><td>597                        </td><td>16                         </td><td>ChIJrV5odTNjx4kR8GwA-0fk4qk</td><td>Dover                      </td><td>US                         </td></tr>\n",
       "\t<tr><td>Carnival Splendor          </td><td>3EUS                       </td><td>Carnival Cruise Line       </td><td>2015-12-14                 </td><td>     0.00                  </td><td>25.3662                    </td><td>-79.9476                   </td><td>25.3662                    </td><td>-79.9476                   </td><td>FALSE                      </td><td>  0                        </td><td> 1                         </td><td>ChIJEcHIDqKw2YgRZU-t3XHylv8</td><td>Miami                      </td><td>US                         </td></tr>\n",
       "\t<tr><td>Carnival Splendor          </td><td>3EUS                       </td><td>Carnival Cruise Line       </td><td>2017-01-22                 </td><td>304820.65                  </td><td>22.9000                    </td><td>-78.8000                   </td><td>25.4292                    </td><td>-79.9503                   </td><td> TRUE                      </td><td>770                        </td><td>29                         </td><td>ChIJyduBuZl8L4kR0lBeSNMB7yo</td><td>Nassau                     </td><td>BS                         </td></tr>\n",
       "\t<tr><td>Carnival Splendor          </td><td>3EUS                       </td><td>Carnival Cruise Line       </td><td>2014-12-24                 </td><td> 14634.55                  </td><td>20.6046                    </td><td>-86.9222                   </td><td>20.4845                    </td><td>-86.9793                   </td><td> TRUE                      </td><td>536                        </td><td>11                         </td><td>ChIJJ5PRsO_4To8R_IsBXK68LjQ</td><td>Cozumel                    </td><td>MX                         </td></tr>\n",
       "\t<tr><td>Carnival Splendor          </td><td>3EUS                       </td><td>Carnival Cruise Line       </td><td>2014-09-11                 </td><td>230024.99                  </td><td>43.2000                    </td><td>-65.8000                   </td><td>44.3935                    </td><td>-63.4628                   </td><td> TRUE                      </td><td>536                        </td><td>14                         </td><td>ChIJxesm0LsTRUsRW2dKWg1nkM0</td><td>Halifax                    </td><td>CA                         </td></tr>\n",
       "\t<tr><td>Carnival Splendor          </td><td>3EUS                       </td><td>Carnival Cruise Line       </td><td>2008-10-01                 </td><td>450253.87                  </td><td>38.9000                    </td><td> 12.4000                   </td><td>39.0000                    </td><td>  7.2000                   </td><td>FALSE                      </td><td>  0                        </td><td> 2                         </td><td>ChIJX5Ck1i9iGRMRgjSY-bze8Ys</td><td>Trapani                    </td><td>IT                         </td></tr>\n",
       "</tbody>\n",
       "</table>\n"
      ],
      "text/latex": [
       "\\begin{tabular}{r|lllllllllllllll}\n",
       " ship\\_name & callsign & major\\_cruise\\_line & date & meters\\_traveled & lat\\_start & lon\\_start & lat\\_end & lon\\_end & in\\_port & stopped\\_minutes & num\\_periods & port\\_city\\_id & port\\_city\\_name & port\\_city\\_country\\\\\n",
       "\\hline\n",
       "\t Carnival Splendor           & 3EUS                        & Carnival Cruise Line        & 2013-10-24                  & 147030.32                   & 39.1000                     & -73.8000                    & 40.4207                     & -73.7793                    &  TRUE                       & 597                         & 16                          & ChIJrV5odTNjx4kR8GwA-0fk4qk & Dover                       & US                         \\\\\n",
       "\t Carnival Splendor           & 3EUS                        & Carnival Cruise Line        & 2015-12-14                  &      0.00                   & 25.3662                     & -79.9476                    & 25.3662                     & -79.9476                    & FALSE                       &   0                         &  1                          & ChIJEcHIDqKw2YgRZU-t3XHylv8 & Miami                       & US                         \\\\\n",
       "\t Carnival Splendor           & 3EUS                        & Carnival Cruise Line        & 2017-01-22                  & 304820.65                   & 22.9000                     & -78.8000                    & 25.4292                     & -79.9503                    &  TRUE                       & 770                         & 29                          & ChIJyduBuZl8L4kR0lBeSNMB7yo & Nassau                      & BS                         \\\\\n",
       "\t Carnival Splendor               & 3EUS                            & Carnival Cruise Line            & 2014-12-24                      &  14634.55                       & 20.6046                         & -86.9222                        & 20.4845                         & -86.9793                        &  TRUE                           & 536                             & 11                              & ChIJJ5PRsO\\_4To8R\\_IsBXK68LjQ & Cozumel                         & MX                             \\\\\n",
       "\t Carnival Splendor           & 3EUS                        & Carnival Cruise Line        & 2014-09-11                  & 230024.99                   & 43.2000                     & -65.8000                    & 44.3935                     & -63.4628                    &  TRUE                       & 536                         & 14                          & ChIJxesm0LsTRUsRW2dKWg1nkM0 & Halifax                     & CA                         \\\\\n",
       "\t Carnival Splendor           & 3EUS                        & Carnival Cruise Line        & 2008-10-01                  & 450253.87                   & 38.9000                     &  12.4000                    & 39.0000                     &   7.2000                    & FALSE                       &   0                         &  2                          & ChIJX5Ck1i9iGRMRgjSY-bze8Ys & Trapani                     & IT                         \\\\\n",
       "\\end{tabular}\n"
      ],
      "text/markdown": [
       "\n",
       "| ship_name | callsign | major_cruise_line | date | meters_traveled | lat_start | lon_start | lat_end | lon_end | in_port | stopped_minutes | num_periods | port_city_id | port_city_name | port_city_country |\n",
       "|---|---|---|---|---|---|---|---|---|---|---|---|---|---|---|\n",
       "| Carnival Splendor           | 3EUS                        | Carnival Cruise Line        | 2013-10-24                  | 147030.32                   | 39.1000                     | -73.8000                    | 40.4207                     | -73.7793                    |  TRUE                       | 597                         | 16                          | ChIJrV5odTNjx4kR8GwA-0fk4qk | Dover                       | US                          |\n",
       "| Carnival Splendor           | 3EUS                        | Carnival Cruise Line        | 2015-12-14                  |      0.00                   | 25.3662                     | -79.9476                    | 25.3662                     | -79.9476                    | FALSE                       |   0                         |  1                          | ChIJEcHIDqKw2YgRZU-t3XHylv8 | Miami                       | US                          |\n",
       "| Carnival Splendor           | 3EUS                        | Carnival Cruise Line        | 2017-01-22                  | 304820.65                   | 22.9000                     | -78.8000                    | 25.4292                     | -79.9503                    |  TRUE                       | 770                         | 29                          | ChIJyduBuZl8L4kR0lBeSNMB7yo | Nassau                      | BS                          |\n",
       "| Carnival Splendor           | 3EUS                        | Carnival Cruise Line        | 2014-12-24                  |  14634.55                   | 20.6046                     | -86.9222                    | 20.4845                     | -86.9793                    |  TRUE                       | 536                         | 11                          | ChIJJ5PRsO_4To8R_IsBXK68LjQ | Cozumel                     | MX                          |\n",
       "| Carnival Splendor           | 3EUS                        | Carnival Cruise Line        | 2014-09-11                  | 230024.99                   | 43.2000                     | -65.8000                    | 44.3935                     | -63.4628                    |  TRUE                       | 536                         | 14                          | ChIJxesm0LsTRUsRW2dKWg1nkM0 | Halifax                     | CA                          |\n",
       "| Carnival Splendor           | 3EUS                        | Carnival Cruise Line        | 2008-10-01                  | 450253.87                   | 38.9000                     |  12.4000                    | 39.0000                     |   7.2000                    | FALSE                       |   0                         |  2                          | ChIJX5Ck1i9iGRMRgjSY-bze8Ys | Trapani                     | IT                          |\n",
       "\n"
      ],
      "text/plain": [
       "  ship_name         callsign major_cruise_line    date       meters_traveled\n",
       "1 Carnival Splendor 3EUS     Carnival Cruise Line 2013-10-24 147030.32      \n",
       "2 Carnival Splendor 3EUS     Carnival Cruise Line 2015-12-14      0.00      \n",
       "3 Carnival Splendor 3EUS     Carnival Cruise Line 2017-01-22 304820.65      \n",
       "4 Carnival Splendor 3EUS     Carnival Cruise Line 2014-12-24  14634.55      \n",
       "5 Carnival Splendor 3EUS     Carnival Cruise Line 2014-09-11 230024.99      \n",
       "6 Carnival Splendor 3EUS     Carnival Cruise Line 2008-10-01 450253.87      \n",
       "  lat_start lon_start lat_end lon_end  in_port stopped_minutes num_periods\n",
       "1 39.1000   -73.8000  40.4207 -73.7793  TRUE   597             16         \n",
       "2 25.3662   -79.9476  25.3662 -79.9476 FALSE     0              1         \n",
       "3 22.9000   -78.8000  25.4292 -79.9503  TRUE   770             29         \n",
       "4 20.6046   -86.9222  20.4845 -86.9793  TRUE   536             11         \n",
       "5 43.2000   -65.8000  44.3935 -63.4628  TRUE   536             14         \n",
       "6 38.9000    12.4000  39.0000   7.2000 FALSE     0              2         \n",
       "  port_city_id                port_city_name port_city_country\n",
       "1 ChIJrV5odTNjx4kR8GwA-0fk4qk Dover          US               \n",
       "2 ChIJEcHIDqKw2YgRZU-t3XHylv8 Miami          US               \n",
       "3 ChIJyduBuZl8L4kR0lBeSNMB7yo Nassau         BS               \n",
       "4 ChIJJ5PRsO_4To8R_IsBXK68LjQ Cozumel        MX               \n",
       "5 ChIJxesm0LsTRUsRW2dKWg1nkM0 Halifax        CA               \n",
       "6 ChIJX5Ck1i9iGRMRgjSY-bze8Ys Trapani        IT               "
      ]
     },
     "metadata": {},
     "output_type": "display_data"
    }
   ],
   "source": [
    "library(leaflet)\n",
    "library(readr)\n",
    "library(dplyr)\n",
    "\n",
    "ships  <- read_csv(\"../data/output_ships.csv\", col_types = cols())\n",
    "deaths <- read_csv(\"../data/output_deaths.csv\", col_types = cols())\n",
    "cities <- read_csv(\"../data/output_cities.csv\", col_types = cols())\n",
    "load(\"../data/shipping.rdata\")\n",
    "\n",
    "shipping %>% head\n"
   ]
  },
  {
   "cell_type": "code",
   "execution_count": null,
   "metadata": {},
   "outputs": [],
   "source": []
  }
 ],
 "metadata": {
  "kernelspec": {
   "display_name": "R",
   "language": "R",
   "name": "ir"
  },
  "language_info": {
   "codemirror_mode": "r",
   "file_extension": ".r",
   "mimetype": "text/x-r-source",
   "name": "R",
   "pygments_lexer": "r",
   "version": "3.5.2"
  }
 },
 "nbformat": 4,
 "nbformat_minor": 2
}
