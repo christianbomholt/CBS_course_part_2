{
 "cells": [
  {
   "cell_type": "markdown",
   "metadata": {},
   "source": [
    "# Exercise 2.2\n",
    "\n",
    "### Explore the possible visualization techniques\n",
    "\n",
    "Each cell contains instructions of how to load a given dataset.\n",
    "\n",
    "- Try to come up with ways to vizualize the information in the dataframe\n",
    "- Discuss and draw out your thoughts\n",
    "- Get inspiration from [plotly](https://plot.ly/r/)\n",
    "\n",
    "\n",
    "![](https://bayesianbiologist.files.wordpress.com/2014/07/img9.png)"
   ]
  },
  {
   "cell_type": "markdown",
   "metadata": {},
   "source": [
    "## Load libraries"
   ]
  },
  {
   "cell_type": "code",
   "execution_count": 22,
   "metadata": {},
   "outputs": [],
   "source": [
    "suppressMessages(library(dplyr))\n",
    "suppressMessages(library(plotly))\n",
    "library(readr)"
   ]
  },
  {
   "cell_type": "markdown",
   "metadata": {},
   "source": [
    "## Data with many measures and 1 dimension \n",
    "\n",
    "**Measures** are numerical values that mathematical functions work on. For example, a sales revenue column is a measure because you can find out a total or average the data.\n",
    "\n",
    "**Dimensions** are qualitative and do not total a sum. For example, sales region, employee, location, or date are dimensions."
   ]
  },
  {
   "cell_type": "code",
   "execution_count": 12,
   "metadata": {},
   "outputs": [
    {
     "data": {
      "text/html": [
       "<table>\n",
       "<thead><tr><th scope=col>Sepal.Length</th><th scope=col>Sepal.Width</th><th scope=col>Petal.Length</th><th scope=col>Petal.Width</th><th scope=col>Species</th></tr></thead>\n",
       "<tbody>\n",
       "\t<tr><td>5.1   </td><td>3.5   </td><td>1.4   </td><td>0.2   </td><td>setosa</td></tr>\n",
       "\t<tr><td>4.9   </td><td>3.0   </td><td>1.4   </td><td>0.2   </td><td>setosa</td></tr>\n",
       "\t<tr><td>4.7   </td><td>3.2   </td><td>1.3   </td><td>0.2   </td><td>setosa</td></tr>\n",
       "\t<tr><td>4.6   </td><td>3.1   </td><td>1.5   </td><td>0.2   </td><td>setosa</td></tr>\n",
       "\t<tr><td>5.0   </td><td>3.6   </td><td>1.4   </td><td>0.2   </td><td>setosa</td></tr>\n",
       "\t<tr><td>5.4   </td><td>3.9   </td><td>1.7   </td><td>0.4   </td><td>setosa</td></tr>\n",
       "</tbody>\n",
       "</table>\n"
      ],
      "text/latex": [
       "\\begin{tabular}{r|lllll}\n",
       " Sepal.Length & Sepal.Width & Petal.Length & Petal.Width & Species\\\\\n",
       "\\hline\n",
       "\t 5.1    & 3.5    & 1.4    & 0.2    & setosa\\\\\n",
       "\t 4.9    & 3.0    & 1.4    & 0.2    & setosa\\\\\n",
       "\t 4.7    & 3.2    & 1.3    & 0.2    & setosa\\\\\n",
       "\t 4.6    & 3.1    & 1.5    & 0.2    & setosa\\\\\n",
       "\t 5.0    & 3.6    & 1.4    & 0.2    & setosa\\\\\n",
       "\t 5.4    & 3.9    & 1.7    & 0.4    & setosa\\\\\n",
       "\\end{tabular}\n"
      ],
      "text/markdown": [
       "\n",
       "| Sepal.Length | Sepal.Width | Petal.Length | Petal.Width | Species |\n",
       "|---|---|---|---|---|\n",
       "| 5.1    | 3.5    | 1.4    | 0.2    | setosa |\n",
       "| 4.9    | 3.0    | 1.4    | 0.2    | setosa |\n",
       "| 4.7    | 3.2    | 1.3    | 0.2    | setosa |\n",
       "| 4.6    | 3.1    | 1.5    | 0.2    | setosa |\n",
       "| 5.0    | 3.6    | 1.4    | 0.2    | setosa |\n",
       "| 5.4    | 3.9    | 1.7    | 0.4    | setosa |\n",
       "\n"
      ],
      "text/plain": [
       "  Sepal.Length Sepal.Width Petal.Length Petal.Width Species\n",
       "1 5.1          3.5         1.4          0.2         setosa \n",
       "2 4.9          3.0         1.4          0.2         setosa \n",
       "3 4.7          3.2         1.3          0.2         setosa \n",
       "4 4.6          3.1         1.5          0.2         setosa \n",
       "5 5.0          3.6         1.4          0.2         setosa \n",
       "6 5.4          3.9         1.7          0.4         setosa "
      ]
     },
     "metadata": {},
     "output_type": "display_data"
    }
   ],
   "source": [
    "df <- iris\n",
    "head(df)"
   ]
  },
  {
   "cell_type": "markdown",
   "metadata": {},
   "source": [
    "## Count data"
   ]
  },
  {
   "cell_type": "code",
   "execution_count": 5,
   "metadata": {
    "scrolled": true
   },
   "outputs": [
    {
     "data": {
      "text/html": [
       "<table>\n",
       "<thead><tr><th scope=col>cut</th><th scope=col>clarity</th><th scope=col>n</th></tr></thead>\n",
       "<tbody>\n",
       "\t<tr><td>Fair</td><td>I1  </td><td>210 </td></tr>\n",
       "\t<tr><td>Fair</td><td>SI2 </td><td>466 </td></tr>\n",
       "\t<tr><td>Fair</td><td>SI1 </td><td>408 </td></tr>\n",
       "\t<tr><td>Fair</td><td>VS2 </td><td>261 </td></tr>\n",
       "\t<tr><td>Fair</td><td>VS1 </td><td>170 </td></tr>\n",
       "\t<tr><td>Fair</td><td>VVS2</td><td> 69 </td></tr>\n",
       "</tbody>\n",
       "</table>\n"
      ],
      "text/latex": [
       "\\begin{tabular}{r|lll}\n",
       " cut & clarity & n\\\\\n",
       "\\hline\n",
       "\t Fair & I1   & 210 \\\\\n",
       "\t Fair & SI2  & 466 \\\\\n",
       "\t Fair & SI1  & 408 \\\\\n",
       "\t Fair & VS2  & 261 \\\\\n",
       "\t Fair & VS1  & 170 \\\\\n",
       "\t Fair & VVS2 &  69 \\\\\n",
       "\\end{tabular}\n"
      ],
      "text/markdown": [
       "\n",
       "| cut | clarity | n |\n",
       "|---|---|---|\n",
       "| Fair | I1   | 210  |\n",
       "| Fair | SI2  | 466  |\n",
       "| Fair | SI1  | 408  |\n",
       "| Fair | VS2  | 261  |\n",
       "| Fair | VS1  | 170  |\n",
       "| Fair | VVS2 |  69  |\n",
       "\n"
      ],
      "text/plain": [
       "  cut  clarity n  \n",
       "1 Fair I1      210\n",
       "2 Fair SI2     466\n",
       "3 Fair SI1     408\n",
       "4 Fair VS2     261\n",
       "5 Fair VS1     170\n",
       "6 Fair VVS2     69"
      ]
     },
     "metadata": {},
     "output_type": "display_data"
    }
   ],
   "source": [
    "df <- ggplot2::diamonds %>% count(cut, clarity)\n",
    "df  %>% head"
   ]
  },
  {
   "cell_type": "markdown",
   "metadata": {},
   "source": [
    "## Distributional data"
   ]
  },
  {
   "cell_type": "markdown",
   "metadata": {},
   "source": [
    "Let X be stichastic and\n",
    "$$\n",
    "    X \\sim N(1,2)\n",
    "$$"
   ]
  },
  {
   "cell_type": "code",
   "execution_count": 11,
   "metadata": {},
   "outputs": [
    {
     "data": {
      "text/html": [
       "<table>\n",
       "<thead><tr><th scope=col>X</th></tr></thead>\n",
       "<tbody>\n",
       "\t<tr><td>-0.7578137</td></tr>\n",
       "\t<tr><td>-0.5264159</td></tr>\n",
       "\t<tr><td>-0.4211599</td></tr>\n",
       "\t<tr><td>-2.7541735</td></tr>\n",
       "\t<tr><td> 1.2001216</td></tr>\n",
       "\t<tr><td>-1.5327659</td></tr>\n",
       "</tbody>\n",
       "</table>\n"
      ],
      "text/latex": [
       "\\begin{tabular}{r|l}\n",
       " X\\\\\n",
       "\\hline\n",
       "\t -0.7578137\\\\\n",
       "\t -0.5264159\\\\\n",
       "\t -0.4211599\\\\\n",
       "\t -2.7541735\\\\\n",
       "\t  1.2001216\\\\\n",
       "\t -1.5327659\\\\\n",
       "\\end{tabular}\n"
      ],
      "text/markdown": [
       "\n",
       "| X |\n",
       "|---|\n",
       "| -0.7578137 |\n",
       "| -0.5264159 |\n",
       "| -0.4211599 |\n",
       "| -2.7541735 |\n",
       "|  1.2001216 |\n",
       "| -1.5327659 |\n",
       "\n"
      ],
      "text/plain": [
       "  X         \n",
       "1 -0.7578137\n",
       "2 -0.5264159\n",
       "3 -0.4211599\n",
       "4 -2.7541735\n",
       "5  1.2001216\n",
       "6 -1.5327659"
      ]
     },
     "metadata": {},
     "output_type": "display_data"
    }
   ],
   "source": [
    "df <- data.frame(X=rnorm(1e5,mean = 1,sd = 2)) \n",
    "\n",
    "df %>% head"
   ]
  },
  {
   "cell_type": "markdown",
   "metadata": {},
   "source": [
    "## Matrix data\n",
    "\n",
    "Maunga Whau (Mt Eden) is one of about 50 volcanos in the Auckland volcanic field. This data set gives topographic information for Maunga Whau on a 10m by 10m grid.\n",
    "\n",
    "#### Format\n",
    "\n",
    "A matrix with 87 rows and 61 columns, rows corresponding to grid lines running east to west and columns to grid lines running south to north."
   ]
  },
  {
   "cell_type": "code",
   "execution_count": 15,
   "metadata": {},
   "outputs": [
    {
     "data": {
      "text/html": [
       "<table>\n",
       "<tbody>\n",
       "\t<tr><td>100</td><td>100</td><td>101</td><td>101</td><td>101</td><td>101</td><td>101</td><td>100</td><td>100</td><td>100</td><td>⋯  </td><td>107</td><td>107</td><td>107</td><td>106</td><td>106</td><td>105</td><td>105</td><td>104</td><td>104</td><td>103</td></tr>\n",
       "\t<tr><td>101</td><td>101</td><td>102</td><td>102</td><td>102</td><td>102</td><td>102</td><td>101</td><td>101</td><td>101</td><td>⋯  </td><td>108</td><td>108</td><td>107</td><td>107</td><td>106</td><td>106</td><td>105</td><td>105</td><td>104</td><td>104</td></tr>\n",
       "\t<tr><td>102</td><td>102</td><td>103</td><td>103</td><td>103</td><td>103</td><td>103</td><td>102</td><td>102</td><td>102</td><td>⋯  </td><td>109</td><td>108</td><td>108</td><td>107</td><td>107</td><td>106</td><td>106</td><td>105</td><td>105</td><td>104</td></tr>\n",
       "\t<tr><td>103</td><td>103</td><td>104</td><td>104</td><td>104</td><td>104</td><td>104</td><td>103</td><td>103</td><td>103</td><td>⋯  </td><td>109</td><td>109</td><td>108</td><td>108</td><td>107</td><td>107</td><td>106</td><td>106</td><td>105</td><td>105</td></tr>\n",
       "\t<tr><td>104</td><td>104</td><td>105</td><td>105</td><td>105</td><td>105</td><td>105</td><td>104</td><td>104</td><td>103</td><td>⋯  </td><td>110</td><td>109</td><td>109</td><td>108</td><td>107</td><td>107</td><td>107</td><td>106</td><td>106</td><td>105</td></tr>\n",
       "\t<tr><td>105</td><td>105</td><td>105</td><td>106</td><td>106</td><td>106</td><td>106</td><td>105</td><td>105</td><td>104</td><td>⋯  </td><td>110</td><td>110</td><td>109</td><td>108</td><td>108</td><td>108</td><td>107</td><td>107</td><td>106</td><td>106</td></tr>\n",
       "</tbody>\n",
       "</table>\n"
      ],
      "text/latex": [
       "\\begin{tabular}{lllllllllllllllllllllllllllllllllllllllllllllllllllllllllllll}\n",
       "\t 100 & 100 & 101 & 101 & 101 & 101 & 101 & 100 & 100 & 100 & ⋯   & 107 & 107 & 107 & 106 & 106 & 105 & 105 & 104 & 104 & 103\\\\\n",
       "\t 101 & 101 & 102 & 102 & 102 & 102 & 102 & 101 & 101 & 101 & ⋯   & 108 & 108 & 107 & 107 & 106 & 106 & 105 & 105 & 104 & 104\\\\\n",
       "\t 102 & 102 & 103 & 103 & 103 & 103 & 103 & 102 & 102 & 102 & ⋯   & 109 & 108 & 108 & 107 & 107 & 106 & 106 & 105 & 105 & 104\\\\\n",
       "\t 103 & 103 & 104 & 104 & 104 & 104 & 104 & 103 & 103 & 103 & ⋯   & 109 & 109 & 108 & 108 & 107 & 107 & 106 & 106 & 105 & 105\\\\\n",
       "\t 104 & 104 & 105 & 105 & 105 & 105 & 105 & 104 & 104 & 103 & ⋯   & 110 & 109 & 109 & 108 & 107 & 107 & 107 & 106 & 106 & 105\\\\\n",
       "\t 105 & 105 & 105 & 106 & 106 & 106 & 106 & 105 & 105 & 104 & ⋯   & 110 & 110 & 109 & 108 & 108 & 108 & 107 & 107 & 106 & 106\\\\\n",
       "\\end{tabular}\n"
      ],
      "text/markdown": [
       "\n",
       "| 100 | 100 | 101 | 101 | 101 | 101 | 101 | 100 | 100 | 100 | ⋯   | 107 | 107 | 107 | 106 | 106 | 105 | 105 | 104 | 104 | 103 |\n",
       "| 101 | 101 | 102 | 102 | 102 | 102 | 102 | 101 | 101 | 101 | ⋯   | 108 | 108 | 107 | 107 | 106 | 106 | 105 | 105 | 104 | 104 |\n",
       "| 102 | 102 | 103 | 103 | 103 | 103 | 103 | 102 | 102 | 102 | ⋯   | 109 | 108 | 108 | 107 | 107 | 106 | 106 | 105 | 105 | 104 |\n",
       "| 103 | 103 | 104 | 104 | 104 | 104 | 104 | 103 | 103 | 103 | ⋯   | 109 | 109 | 108 | 108 | 107 | 107 | 106 | 106 | 105 | 105 |\n",
       "| 104 | 104 | 105 | 105 | 105 | 105 | 105 | 104 | 104 | 103 | ⋯   | 110 | 109 | 109 | 108 | 107 | 107 | 107 | 106 | 106 | 105 |\n",
       "| 105 | 105 | 105 | 106 | 106 | 106 | 106 | 105 | 105 | 104 | ⋯   | 110 | 110 | 109 | 108 | 108 | 108 | 107 | 107 | 106 | 106 |\n",
       "\n"
      ],
      "text/plain": [
       "     [,1] [,2] [,3] [,4] [,5] [,6] [,7] [,8] [,9] [,10] [,11] [,12] [,13] [,14]\n",
       "[1,] 100  100  101  101  101  101  101  100  100  100   ⋯     107   107   107  \n",
       "[2,] 101  101  102  102  102  102  102  101  101  101   ⋯     108   108   107  \n",
       "[3,] 102  102  103  103  103  103  103  102  102  102   ⋯     109   108   108  \n",
       "[4,] 103  103  104  104  104  104  104  103  103  103   ⋯     109   109   108  \n",
       "[5,] 104  104  105  105  105  105  105  104  104  103   ⋯     110   109   109  \n",
       "[6,] 105  105  105  106  106  106  106  105  105  104   ⋯     110   110   109  \n",
       "     [,15] [,16] [,17] [,18] [,19] [,20] [,21]\n",
       "[1,] 106   106   105   105   104   104   103  \n",
       "[2,] 107   106   106   105   105   104   104  \n",
       "[3,] 107   107   106   106   105   105   104  \n",
       "[4,] 108   107   107   106   106   105   105  \n",
       "[5,] 108   107   107   107   106   106   105  \n",
       "[6,] 108   108   108   107   107   106   106  "
      ]
     },
     "metadata": {},
     "output_type": "display_data"
    }
   ],
   "source": [
    "df <- volcano\n",
    "head(df)"
   ]
  },
  {
   "cell_type": "markdown",
   "metadata": {},
   "source": [
    "## Brain imaging\n",
    "\n",
    "#### DWI\n",
    "\n",
    "Diffusion-weighted imaging (DWI) is a form of MR imaging based upon measuring the random Brownian motion of water molecules within a voxel of tissue. In general simplified terms, highly cellular tissues or those with cellular swelling exhibit lower diffusion coefficients. Diffusion is particularly useful in tumor characterization and cerebral ischemia. \n",
    "\n",
    "### PWI\n",
    "\n",
    "\n",
    "Perfusion weighted imaging is a term used to denote a variety of MRI techniques able to give insights into the perfusion of tissues by blood. \n",
    "\n",
    "\n",
    "#### Hint use same technique as for the vulcano"
   ]
  },
  {
   "cell_type": "code",
   "execution_count": 27,
   "metadata": {},
   "outputs": [
    {
     "data": {
      "text/html": [
       "<table>\n",
       "<thead><tr><th scope=col>X1</th><th scope=col>X2</th><th scope=col>X3</th><th scope=col>X4</th><th scope=col>X5</th><th scope=col>X6</th><th scope=col>X7</th><th scope=col>X8</th><th scope=col>X9</th><th scope=col>X10</th><th scope=col>⋯</th><th scope=col>X119</th><th scope=col>X120</th><th scope=col>X121</th><th scope=col>X122</th><th scope=col>X123</th><th scope=col>X124</th><th scope=col>X125</th><th scope=col>X126</th><th scope=col>X127</th><th scope=col>X128</th></tr></thead>\n",
       "<tbody>\n",
       "\t<tr><td>-2.6149</td><td>23.534 </td><td>13.074 </td><td> 7.8447</td><td> 5.2298</td><td>10.4600</td><td>15.6890</td><td> 7.8447</td><td> 5.2298</td><td> 5.2298</td><td>⋯      </td><td>15.6890</td><td>13.0740</td><td> 2.6149</td><td> 0.0000</td><td>15.6890</td><td> 7.8447</td><td> 5.2298</td><td> 2.6149</td><td>23.5340</td><td>-2.6149</td></tr>\n",
       "\t<tr><td> 0.0000</td><td>13.074 </td><td>15.689 </td><td>-2.6149</td><td>13.0740</td><td> 2.6149</td><td>18.3040</td><td>26.1490</td><td>10.4600</td><td>13.0740</td><td>⋯      </td><td>-2.6149</td><td>18.3040</td><td> 0.0000</td><td> 7.8447</td><td>18.3040</td><td> 5.2298</td><td>23.5340</td><td>39.2230</td><td>41.8380</td><td>-2.6149</td></tr>\n",
       "\t<tr><td>-2.6149</td><td>15.689 </td><td>18.304 </td><td>13.0740</td><td>13.0740</td><td>28.7640</td><td>33.9940</td><td>26.1490</td><td> 2.6149</td><td>15.6890</td><td>⋯      </td><td>13.0740</td><td> 0.0000</td><td> 2.6149</td><td>10.4600</td><td>28.7640</td><td>18.3040</td><td>20.9190</td><td>28.7640</td><td>26.1490</td><td>-2.6149</td></tr>\n",
       "\t<tr><td>-2.6149</td><td>15.689 </td><td>13.074 </td><td>10.4600</td><td> 5.2298</td><td>13.0740</td><td>15.6890</td><td> 0.0000</td><td> 7.8447</td><td> 5.2298</td><td>⋯      </td><td>15.6890</td><td>18.3040</td><td>13.0740</td><td>13.0740</td><td>23.5340</td><td>10.4600</td><td> 5.2298</td><td>18.3040</td><td> 7.8447</td><td> 0.0000</td></tr>\n",
       "\t<tr><td>-2.6149</td><td>26.149 </td><td>28.764 </td><td>28.7640</td><td>20.9190</td><td>13.0740</td><td> 7.8447</td><td>20.9190</td><td>20.9190</td><td>23.5340</td><td>⋯      </td><td> 5.2298</td><td> 0.0000</td><td>-5.2298</td><td>-2.6149</td><td> 7.8447</td><td> 7.8447</td><td> 7.8447</td><td> 5.2298</td><td>18.3040</td><td>-2.6149</td></tr>\n",
       "\t<tr><td>-2.6149</td><td>23.534 </td><td>26.149 </td><td> 5.2298</td><td>-2.6149</td><td> 7.8447</td><td> 2.6149</td><td>23.5340</td><td>18.3040</td><td> 2.6149</td><td>⋯      </td><td>15.6890</td><td> 7.8447</td><td>-2.6149</td><td> 0.0000</td><td>26.1490</td><td>28.7640</td><td>10.4600</td><td>10.4600</td><td>10.4600</td><td> 0.0000</td></tr>\n",
       "</tbody>\n",
       "</table>\n"
      ],
      "text/latex": [
       "\\begin{tabular}{llllllllllllllllllllllllllllllllllllllllllllllllllllllllllllllllllllllllllllllllllllllllllllllllllllllllllllllllllllllllllllllll}\n",
       " X1 & X2 & X3 & X4 & X5 & X6 & X7 & X8 & X9 & X10 & ⋯ & X119 & X120 & X121 & X122 & X123 & X124 & X125 & X126 & X127 & X128\\\\\n",
       "\\hline\n",
       "\t -2.6149 & 23.534  & 13.074  &  7.8447 &  5.2298 & 10.4600 & 15.6890 &  7.8447 &  5.2298 &  5.2298 & ⋯       & 15.6890 & 13.0740 &  2.6149 &  0.0000 & 15.6890 &  7.8447 &  5.2298 &  2.6149 & 23.5340 & -2.6149\\\\\n",
       "\t  0.0000 & 13.074  & 15.689  & -2.6149 & 13.0740 &  2.6149 & 18.3040 & 26.1490 & 10.4600 & 13.0740 & ⋯       & -2.6149 & 18.3040 &  0.0000 &  7.8447 & 18.3040 &  5.2298 & 23.5340 & 39.2230 & 41.8380 & -2.6149\\\\\n",
       "\t -2.6149 & 15.689  & 18.304  & 13.0740 & 13.0740 & 28.7640 & 33.9940 & 26.1490 &  2.6149 & 15.6890 & ⋯       & 13.0740 &  0.0000 &  2.6149 & 10.4600 & 28.7640 & 18.3040 & 20.9190 & 28.7640 & 26.1490 & -2.6149\\\\\n",
       "\t -2.6149 & 15.689  & 13.074  & 10.4600 &  5.2298 & 13.0740 & 15.6890 &  0.0000 &  7.8447 &  5.2298 & ⋯       & 15.6890 & 18.3040 & 13.0740 & 13.0740 & 23.5340 & 10.4600 &  5.2298 & 18.3040 &  7.8447 &  0.0000\\\\\n",
       "\t -2.6149 & 26.149  & 28.764  & 28.7640 & 20.9190 & 13.0740 &  7.8447 & 20.9190 & 20.9190 & 23.5340 & ⋯       &  5.2298 &  0.0000 & -5.2298 & -2.6149 &  7.8447 &  7.8447 &  7.8447 &  5.2298 & 18.3040 & -2.6149\\\\\n",
       "\t -2.6149 & 23.534  & 26.149  &  5.2298 & -2.6149 &  7.8447 &  2.6149 & 23.5340 & 18.3040 &  2.6149 & ⋯       & 15.6890 &  7.8447 & -2.6149 &  0.0000 & 26.1490 & 28.7640 & 10.4600 & 10.4600 & 10.4600 &  0.0000\\\\\n",
       "\\end{tabular}\n"
      ],
      "text/markdown": [
       "\n",
       "| X1 | X2 | X3 | X4 | X5 | X6 | X7 | X8 | X9 | X10 | ⋯ | X119 | X120 | X121 | X122 | X123 | X124 | X125 | X126 | X127 | X128 |\n",
       "|---|---|---|---|---|---|---|---|---|---|---|---|---|---|---|---|---|---|---|---|---|\n",
       "| -2.6149 | 23.534  | 13.074  |  7.8447 |  5.2298 | 10.4600 | 15.6890 |  7.8447 |  5.2298 |  5.2298 | ⋯       | 15.6890 | 13.0740 |  2.6149 |  0.0000 | 15.6890 |  7.8447 |  5.2298 |  2.6149 | 23.5340 | -2.6149 |\n",
       "|  0.0000 | 13.074  | 15.689  | -2.6149 | 13.0740 |  2.6149 | 18.3040 | 26.1490 | 10.4600 | 13.0740 | ⋯       | -2.6149 | 18.3040 |  0.0000 |  7.8447 | 18.3040 |  5.2298 | 23.5340 | 39.2230 | 41.8380 | -2.6149 |\n",
       "| -2.6149 | 15.689  | 18.304  | 13.0740 | 13.0740 | 28.7640 | 33.9940 | 26.1490 |  2.6149 | 15.6890 | ⋯       | 13.0740 |  0.0000 |  2.6149 | 10.4600 | 28.7640 | 18.3040 | 20.9190 | 28.7640 | 26.1490 | -2.6149 |\n",
       "| -2.6149 | 15.689  | 13.074  | 10.4600 |  5.2298 | 13.0740 | 15.6890 |  0.0000 |  7.8447 |  5.2298 | ⋯       | 15.6890 | 18.3040 | 13.0740 | 13.0740 | 23.5340 | 10.4600 |  5.2298 | 18.3040 |  7.8447 |  0.0000 |\n",
       "| -2.6149 | 26.149  | 28.764  | 28.7640 | 20.9190 | 13.0740 |  7.8447 | 20.9190 | 20.9190 | 23.5340 | ⋯       |  5.2298 |  0.0000 | -5.2298 | -2.6149 |  7.8447 |  7.8447 |  7.8447 |  5.2298 | 18.3040 | -2.6149 |\n",
       "| -2.6149 | 23.534  | 26.149  |  5.2298 | -2.6149 |  7.8447 |  2.6149 | 23.5340 | 18.3040 |  2.6149 | ⋯       | 15.6890 |  7.8447 | -2.6149 |  0.0000 | 26.1490 | 28.7640 | 10.4600 | 10.4600 | 10.4600 |  0.0000 |\n",
       "\n"
      ],
      "text/plain": [
       "     X1      X2     X3     X4      X5      X6      X7      X8      X9     \n",
       "[1,] -2.6149 23.534 13.074  7.8447  5.2298 10.4600 15.6890  7.8447  5.2298\n",
       "[2,]  0.0000 13.074 15.689 -2.6149 13.0740  2.6149 18.3040 26.1490 10.4600\n",
       "[3,] -2.6149 15.689 18.304 13.0740 13.0740 28.7640 33.9940 26.1490  2.6149\n",
       "[4,] -2.6149 15.689 13.074 10.4600  5.2298 13.0740 15.6890  0.0000  7.8447\n",
       "[5,] -2.6149 26.149 28.764 28.7640 20.9190 13.0740  7.8447 20.9190 20.9190\n",
       "[6,] -2.6149 23.534 26.149  5.2298 -2.6149  7.8447  2.6149 23.5340 18.3040\n",
       "     X10     ⋯ X119    X120    X121    X122    X123    X124    X125    X126   \n",
       "[1,]  5.2298 ⋯ 15.6890 13.0740  2.6149  0.0000 15.6890  7.8447  5.2298  2.6149\n",
       "[2,] 13.0740 ⋯ -2.6149 18.3040  0.0000  7.8447 18.3040  5.2298 23.5340 39.2230\n",
       "[3,] 15.6890 ⋯ 13.0740  0.0000  2.6149 10.4600 28.7640 18.3040 20.9190 28.7640\n",
       "[4,]  5.2298 ⋯ 15.6890 18.3040 13.0740 13.0740 23.5340 10.4600  5.2298 18.3040\n",
       "[5,] 23.5340 ⋯  5.2298  0.0000 -5.2298 -2.6149  7.8447  7.8447  7.8447  5.2298\n",
       "[6,]  2.6149 ⋯ 15.6890  7.8447 -2.6149  0.0000 26.1490 28.7640 10.4600 10.4600\n",
       "     X127    X128   \n",
       "[1,] 23.5340 -2.6149\n",
       "[2,] 41.8380 -2.6149\n",
       "[3,] 26.1490 -2.6149\n",
       "[4,]  7.8447  0.0000\n",
       "[5,] 18.3040 -2.6149\n",
       "[6,] 10.4600  0.0000"
      ]
     },
     "metadata": {},
     "output_type": "display_data"
    }
   ],
   "source": [
    "pwi=read_csv(\"../data/brain/pwi.csv\",col_names =F, col_types = cols()) %>% as.matrix\n",
    "dwi=read_csv(\"../data/brain/dwi.csv\", col_names=F, col_types = cols()) %>% as.matrix\n",
    "\n",
    "\n",
    "head(dwi)"
   ]
  },
  {
   "cell_type": "code",
   "execution_count": null,
   "metadata": {},
   "outputs": [],
   "source": []
  },
  {
   "cell_type": "code",
   "execution_count": null,
   "metadata": {},
   "outputs": [],
   "source": []
  },
  {
   "cell_type": "markdown",
   "metadata": {},
   "source": [
    "## Wolf of wall-street\n",
    "\n",
    "Stock information on Apple Inc, trade date, and Open, Close, Low and High prices in USD. Also included is volume and adjustment factor (Historical price adjustments due to splits and dividend payments).\n",
    "\n",
    "\n",
    "[stock-price calculation](https://blog.quandl.com/guide-to-stock-price-calculation)\n"
   ]
  },
  {
   "cell_type": "code",
   "execution_count": 20,
   "metadata": {},
   "outputs": [
    {
     "data": {
      "text/html": [
       "'AAPL'"
      ],
      "text/latex": [
       "'AAPL'"
      ],
      "text/markdown": [
       "'AAPL'"
      ],
      "text/plain": [
       "[1] \"AAPL\""
      ]
     },
     "metadata": {},
     "output_type": "display_data"
    },
    {
     "data": {
      "text/html": [
       "<table>\n",
       "<thead><tr><th scope=col>Date</th><th scope=col>AAPL.Open</th><th scope=col>AAPL.High</th><th scope=col>AAPL.Low</th><th scope=col>AAPL.Close</th><th scope=col>AAPL.Volume</th><th scope=col>AAPL.Adjusted</th></tr></thead>\n",
       "<tbody>\n",
       "\t<tr><td>2007-01-03</td><td>12.32714  </td><td>12.36857  </td><td>11.70000  </td><td>11.97143  </td><td>309579900 </td><td>7.982585  </td></tr>\n",
       "\t<tr><td>2007-01-04</td><td>12.00714  </td><td>12.27857  </td><td>11.97429  </td><td>12.23714  </td><td>211815100 </td><td>8.159763  </td></tr>\n",
       "\t<tr><td>2007-01-05</td><td>12.25286  </td><td>12.31428  </td><td>12.05714  </td><td>12.15000  </td><td>208685400 </td><td>8.101658  </td></tr>\n",
       "\t<tr><td>2007-01-08</td><td>12.28000  </td><td>12.36143  </td><td>12.18286  </td><td>12.21000  </td><td>199276700 </td><td>8.141665  </td></tr>\n",
       "\t<tr><td>2007-01-09</td><td>12.35000  </td><td>13.28286  </td><td>12.16429  </td><td>13.22429  </td><td>837324600 </td><td>8.817995  </td></tr>\n",
       "\t<tr><td>2007-01-10</td><td>13.53571  </td><td>13.97143  </td><td>13.35000  </td><td>13.85714  </td><td>738220000 </td><td>9.239983  </td></tr>\n",
       "</tbody>\n",
       "</table>\n"
      ],
      "text/latex": [
       "\\begin{tabular}{r|lllllll}\n",
       " Date & AAPL.Open & AAPL.High & AAPL.Low & AAPL.Close & AAPL.Volume & AAPL.Adjusted\\\\\n",
       "\\hline\n",
       "\t 2007-01-03 & 12.32714   & 12.36857   & 11.70000   & 11.97143   & 309579900  & 7.982585  \\\\\n",
       "\t 2007-01-04 & 12.00714   & 12.27857   & 11.97429   & 12.23714   & 211815100  & 8.159763  \\\\\n",
       "\t 2007-01-05 & 12.25286   & 12.31428   & 12.05714   & 12.15000   & 208685400  & 8.101658  \\\\\n",
       "\t 2007-01-08 & 12.28000   & 12.36143   & 12.18286   & 12.21000   & 199276700  & 8.141665  \\\\\n",
       "\t 2007-01-09 & 12.35000   & 13.28286   & 12.16429   & 13.22429   & 837324600  & 8.817995  \\\\\n",
       "\t 2007-01-10 & 13.53571   & 13.97143   & 13.35000   & 13.85714   & 738220000  & 9.239983  \\\\\n",
       "\\end{tabular}\n"
      ],
      "text/markdown": [
       "\n",
       "| Date | AAPL.Open | AAPL.High | AAPL.Low | AAPL.Close | AAPL.Volume | AAPL.Adjusted |\n",
       "|---|---|---|---|---|---|---|\n",
       "| 2007-01-03 | 12.32714   | 12.36857   | 11.70000   | 11.97143   | 309579900  | 7.982585   |\n",
       "| 2007-01-04 | 12.00714   | 12.27857   | 11.97429   | 12.23714   | 211815100  | 8.159763   |\n",
       "| 2007-01-05 | 12.25286   | 12.31428   | 12.05714   | 12.15000   | 208685400  | 8.101658   |\n",
       "| 2007-01-08 | 12.28000   | 12.36143   | 12.18286   | 12.21000   | 199276700  | 8.141665   |\n",
       "| 2007-01-09 | 12.35000   | 13.28286   | 12.16429   | 13.22429   | 837324600  | 8.817995   |\n",
       "| 2007-01-10 | 13.53571   | 13.97143   | 13.35000   | 13.85714   | 738220000  | 9.239983   |\n",
       "\n"
      ],
      "text/plain": [
       "  Date       AAPL.Open AAPL.High AAPL.Low AAPL.Close AAPL.Volume AAPL.Adjusted\n",
       "1 2007-01-03 12.32714  12.36857  11.70000 11.97143   309579900   7.982585     \n",
       "2 2007-01-04 12.00714  12.27857  11.97429 12.23714   211815100   8.159763     \n",
       "3 2007-01-05 12.25286  12.31428  12.05714 12.15000   208685400   8.101658     \n",
       "4 2007-01-08 12.28000  12.36143  12.18286 12.21000   199276700   8.141665     \n",
       "5 2007-01-09 12.35000  13.28286  12.16429 13.22429   837324600   8.817995     \n",
       "6 2007-01-10 13.53571  13.97143  13.35000 13.85714   738220000   9.239983     "
      ]
     },
     "metadata": {},
     "output_type": "display_data"
    }
   ],
   "source": [
    "suppressMessages(library(quantmod))\n",
    "getSymbols(\"AAPL\",src='yahoo')\n",
    "\n",
    "# basic example of ohlc charts\n",
    "df <- data.frame(Date=index(AAPL),coredata(AAPL))\n",
    "\n",
    "df %>% head"
   ]
  },
  {
   "cell_type": "markdown",
   "metadata": {},
   "source": [
    "### Unemployment\n",
    "\n",
    "US Census data from 2015\n",
    "\n"
   ]
  },
  {
   "cell_type": "code",
   "execution_count": 31,
   "metadata": {},
   "outputs": [
    {
     "data": {
      "text/html": [
       "<table>\n",
       "<thead><tr><th scope=col>code</th><th scope=col>name</th><th scope=col>value</th></tr></thead>\n",
       "<tbody>\n",
       "\t<tr><td>us-al-001         </td><td>Autauga County, AL</td><td>4.5               </td></tr>\n",
       "\t<tr><td>us-al-003         </td><td>Baldwin County, AL</td><td>4.7               </td></tr>\n",
       "\t<tr><td>us-al-005         </td><td>Barbour County, AL</td><td>8.2               </td></tr>\n",
       "\t<tr><td>us-al-007         </td><td>Bibb County, AL   </td><td>5.9               </td></tr>\n",
       "\t<tr><td>us-al-009         </td><td>Blount County, AL </td><td>4.8               </td></tr>\n",
       "\t<tr><td>us-al-011         </td><td>Bullock County, AL</td><td>6.1               </td></tr>\n",
       "</tbody>\n",
       "</table>\n"
      ],
      "text/latex": [
       "\\begin{tabular}{r|lll}\n",
       " code & name & value\\\\\n",
       "\\hline\n",
       "\t us-al-001          & Autauga County, AL & 4.5               \\\\\n",
       "\t us-al-003          & Baldwin County, AL & 4.7               \\\\\n",
       "\t us-al-005          & Barbour County, AL & 8.2               \\\\\n",
       "\t us-al-007          & Bibb County, AL    & 5.9               \\\\\n",
       "\t us-al-009          & Blount County, AL  & 4.8               \\\\\n",
       "\t us-al-011          & Bullock County, AL & 6.1               \\\\\n",
       "\\end{tabular}\n"
      ],
      "text/markdown": [
       "\n",
       "| code | name | value |\n",
       "|---|---|---|\n",
       "| us-al-001          | Autauga County, AL | 4.5                |\n",
       "| us-al-003          | Baldwin County, AL | 4.7                |\n",
       "| us-al-005          | Barbour County, AL | 8.2                |\n",
       "| us-al-007          | Bibb County, AL    | 5.9                |\n",
       "| us-al-009          | Blount County, AL  | 4.8                |\n",
       "| us-al-011          | Bullock County, AL | 6.1                |\n",
       "\n"
      ],
      "text/plain": [
       "  code      name               value\n",
       "1 us-al-001 Autauga County, AL 4.5  \n",
       "2 us-al-003 Baldwin County, AL 4.7  \n",
       "3 us-al-005 Barbour County, AL 8.2  \n",
       "4 us-al-007 Bibb County, AL    5.9  \n",
       "5 us-al-009 Blount County, AL  4.8  \n",
       "6 us-al-011 Bullock County, AL 6.1  "
      ]
     },
     "metadata": {},
     "output_type": "display_data"
    }
   ],
   "source": [
    "df <- highcharter::unemployment\n",
    "df %>% head()"
   ]
  },
  {
   "cell_type": "markdown",
   "metadata": {},
   "source": [
    "## Multiple time-series on different scales\n",
    "\n",
    "#### Macro Economics for the US\n",
    "\n",
    "This dataset was produced from US economic time series data available from http://research.stlouisfed.org/fred2.\n",
    "\n",
    "\n",
    "##### economics is in \"wide\" format, economics_long is in \"long\" format.\n",
    "\n",
    "![](https://genviz.org/assets/ggplot2/long_v_wide.png)\n",
    "\n"
   ]
  },
  {
   "cell_type": "code",
   "execution_count": 34,
   "metadata": {},
   "outputs": [
    {
     "data": {
      "text/html": [
       "<table>\n",
       "<thead><tr><th scope=col>date</th><th scope=col>pce</th><th scope=col>pop</th><th scope=col>psavert</th><th scope=col>uempmed</th><th scope=col>unemploy</th></tr></thead>\n",
       "<tbody>\n",
       "\t<tr><td>1967-07-01</td><td>507.4     </td><td>198712    </td><td>12.5      </td><td>4.5       </td><td>2944      </td></tr>\n",
       "\t<tr><td>1967-08-01</td><td>510.5     </td><td>198911    </td><td>12.5      </td><td>4.7       </td><td>2945      </td></tr>\n",
       "\t<tr><td>1967-09-01</td><td>516.3     </td><td>199113    </td><td>11.7      </td><td>4.6       </td><td>2958      </td></tr>\n",
       "\t<tr><td>1967-10-01</td><td>512.9     </td><td>199311    </td><td>12.5      </td><td>4.9       </td><td>3143      </td></tr>\n",
       "\t<tr><td>1967-11-01</td><td>518.1     </td><td>199498    </td><td>12.5      </td><td>4.7       </td><td>3066      </td></tr>\n",
       "\t<tr><td>1967-12-01</td><td>525.8     </td><td>199657    </td><td>12.1      </td><td>4.8       </td><td>3018      </td></tr>\n",
       "</tbody>\n",
       "</table>\n"
      ],
      "text/latex": [
       "\\begin{tabular}{r|llllll}\n",
       " date & pce & pop & psavert & uempmed & unemploy\\\\\n",
       "\\hline\n",
       "\t 1967-07-01 & 507.4      & 198712     & 12.5       & 4.5        & 2944      \\\\\n",
       "\t 1967-08-01 & 510.5      & 198911     & 12.5       & 4.7        & 2945      \\\\\n",
       "\t 1967-09-01 & 516.3      & 199113     & 11.7       & 4.6        & 2958      \\\\\n",
       "\t 1967-10-01 & 512.9      & 199311     & 12.5       & 4.9        & 3143      \\\\\n",
       "\t 1967-11-01 & 518.1      & 199498     & 12.5       & 4.7        & 3066      \\\\\n",
       "\t 1967-12-01 & 525.8      & 199657     & 12.1       & 4.8        & 3018      \\\\\n",
       "\\end{tabular}\n"
      ],
      "text/markdown": [
       "\n",
       "| date | pce | pop | psavert | uempmed | unemploy |\n",
       "|---|---|---|---|---|---|\n",
       "| 1967-07-01 | 507.4      | 198712     | 12.5       | 4.5        | 2944       |\n",
       "| 1967-08-01 | 510.5      | 198911     | 12.5       | 4.7        | 2945       |\n",
       "| 1967-09-01 | 516.3      | 199113     | 11.7       | 4.6        | 2958       |\n",
       "| 1967-10-01 | 512.9      | 199311     | 12.5       | 4.9        | 3143       |\n",
       "| 1967-11-01 | 518.1      | 199498     | 12.5       | 4.7        | 3066       |\n",
       "| 1967-12-01 | 525.8      | 199657     | 12.1       | 4.8        | 3018       |\n",
       "\n"
      ],
      "text/plain": [
       "  date       pce   pop    psavert uempmed unemploy\n",
       "1 1967-07-01 507.4 198712 12.5    4.5     2944    \n",
       "2 1967-08-01 510.5 198911 12.5    4.7     2945    \n",
       "3 1967-09-01 516.3 199113 11.7    4.6     2958    \n",
       "4 1967-10-01 512.9 199311 12.5    4.9     3143    \n",
       "5 1967-11-01 518.1 199498 12.5    4.7     3066    \n",
       "6 1967-12-01 525.8 199657 12.1    4.8     3018    "
      ]
     },
     "metadata": {},
     "output_type": "display_data"
    }
   ],
   "source": [
    "df <- ggplot2::economics\n",
    "df %>% head"
   ]
  },
  {
   "cell_type": "markdown",
   "metadata": {},
   "source": [
    "## Hans Roslings Data visualization\n",
    "\n",
    "\n",
    "[![Everything Is AWESOME](https://img.youtube.com/vi/jbkSRLYSojo/0.jpg)](https://www.youtube.com/watch?v=jbkSRLYSojo)\n"
   ]
  },
  {
   "cell_type": "code",
   "execution_count": 38,
   "metadata": {},
   "outputs": [
    {
     "data": {
      "text/html": [
       "<table>\n",
       "<thead><tr><th scope=col>country</th><th scope=col>continent</th><th scope=col>year</th><th scope=col>lifeExp</th><th scope=col>pop</th><th scope=col>gdpPercap</th></tr></thead>\n",
       "<tbody>\n",
       "\t<tr><td>Afghanistan</td><td>Asia       </td><td>1952       </td><td>28.801     </td><td> 8425333   </td><td>779.4453   </td></tr>\n",
       "\t<tr><td>Afghanistan</td><td>Asia       </td><td>1957       </td><td>30.332     </td><td> 9240934   </td><td>820.8530   </td></tr>\n",
       "\t<tr><td>Afghanistan</td><td>Asia       </td><td>1962       </td><td>31.997     </td><td>10267083   </td><td>853.1007   </td></tr>\n",
       "\t<tr><td>Afghanistan</td><td>Asia       </td><td>1967       </td><td>34.020     </td><td>11537966   </td><td>836.1971   </td></tr>\n",
       "\t<tr><td>Afghanistan</td><td>Asia       </td><td>1972       </td><td>36.088     </td><td>13079460   </td><td>739.9811   </td></tr>\n",
       "\t<tr><td>Afghanistan</td><td>Asia       </td><td>1977       </td><td>38.438     </td><td>14880372   </td><td>786.1134   </td></tr>\n",
       "</tbody>\n",
       "</table>\n"
      ],
      "text/latex": [
       "\\begin{tabular}{r|llllll}\n",
       " country & continent & year & lifeExp & pop & gdpPercap\\\\\n",
       "\\hline\n",
       "\t Afghanistan & Asia        & 1952        & 28.801      &  8425333    & 779.4453   \\\\\n",
       "\t Afghanistan & Asia        & 1957        & 30.332      &  9240934    & 820.8530   \\\\\n",
       "\t Afghanistan & Asia        & 1962        & 31.997      & 10267083    & 853.1007   \\\\\n",
       "\t Afghanistan & Asia        & 1967        & 34.020      & 11537966    & 836.1971   \\\\\n",
       "\t Afghanistan & Asia        & 1972        & 36.088      & 13079460    & 739.9811   \\\\\n",
       "\t Afghanistan & Asia        & 1977        & 38.438      & 14880372    & 786.1134   \\\\\n",
       "\\end{tabular}\n"
      ],
      "text/markdown": [
       "\n",
       "| country | continent | year | lifeExp | pop | gdpPercap |\n",
       "|---|---|---|---|---|---|\n",
       "| Afghanistan | Asia        | 1952        | 28.801      |  8425333    | 779.4453    |\n",
       "| Afghanistan | Asia        | 1957        | 30.332      |  9240934    | 820.8530    |\n",
       "| Afghanistan | Asia        | 1962        | 31.997      | 10267083    | 853.1007    |\n",
       "| Afghanistan | Asia        | 1967        | 34.020      | 11537966    | 836.1971    |\n",
       "| Afghanistan | Asia        | 1972        | 36.088      | 13079460    | 739.9811    |\n",
       "| Afghanistan | Asia        | 1977        | 38.438      | 14880372    | 786.1134    |\n",
       "\n"
      ],
      "text/plain": [
       "  country     continent year lifeExp pop      gdpPercap\n",
       "1 Afghanistan Asia      1952 28.801   8425333 779.4453 \n",
       "2 Afghanistan Asia      1957 30.332   9240934 820.8530 \n",
       "3 Afghanistan Asia      1962 31.997  10267083 853.1007 \n",
       "4 Afghanistan Asia      1967 34.020  11537966 836.1971 \n",
       "5 Afghanistan Asia      1972 36.088  13079460 739.9811 \n",
       "6 Afghanistan Asia      1977 38.438  14880372 786.1134 "
      ]
     },
     "metadata": {},
     "output_type": "display_data"
    }
   ],
   "source": [
    "library(gapminder)\n",
    "\n",
    "gapminder %>% head"
   ]
  },
  {
   "cell_type": "code",
   "execution_count": null,
   "metadata": {},
   "outputs": [],
   "source": []
  }
 ],
 "metadata": {
  "kernelspec": {
   "display_name": "R",
   "language": "R",
   "name": "ir"
  },
  "language_info": {
   "codemirror_mode": "r",
   "file_extension": ".r",
   "mimetype": "text/x-r-source",
   "name": "R",
   "pygments_lexer": "r",
   "version": "3.5.2"
  }
 },
 "nbformat": 4,
 "nbformat_minor": 2
}
