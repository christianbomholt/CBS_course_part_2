{
 "cells": [
  {
   "cell_type": "markdown",
   "metadata": {},
   "source": [
    "## Data cleaning at load\n",
    "\n",
    "One of the most common mistakes seen from proffesionals working with data is that they do not utilize the cleaning capabilities of their loading framework.\n",
    "\n",
    "###### Adding a few arguments to your load statement will save hours down the line\n",
    "\n",
    "###### It also has the added benefit of tidying your [ETL pipeline](https://en.wikipedia.org/wiki/Extract,_transform,_load) drastically.\n",
    "\n",
    "\n",
    "## Exercise 0.1\n",
    "\n",
    " - play around with the arguments for `read_excel`\n",
    " - `read_excel(path, argument1 = x, argument2 = y)`\n",
    "\n",
    "\n",
    "![](https://miro.medium.com/max/882/1*eVZyKIcUXOfzPrMTGx7yVw.png)\n"
   ]
  },
  {
   "cell_type": "code",
   "execution_count": 4,
   "metadata": {
    "scrolled": true
   },
   "outputs": [
    {
     "data": {
      "text/html": [
       "<table>\n",
       "<thead><tr><th scope=col>-164 #M NA_PreVal Disaggregate_All</th><th scope=col>movv(N213FGBP@EMERGELA,4)</th><th scope=col>yryr(movv(H213BCPG@EMERGELA,2))</th><th scope=col>movv(H213acg@EMERGELA/H213NGPD@EMERGE,2)*100</th><th scope=col>S213NGCP@EMERGELA</th><th scope=col>Argentina: Gross External Debt as a Percentage of GDP (%)</th></tr></thead>\n",
       "<tbody>\n",
       "\t<tr><td>.DESC                                                                                                                                                 </td><td>Argentina: Primary Surplus[+]/Deficit[-] as % of GDP (%) 4-qtr MovingAverage                                                                          </td><td>Argentina: BOP: Current Account Balance as a Percentage of GDP (SA, %)                                                                                </td><td>H213ACG: Argentina: Balance of Payments: Goods (SA, US$) H213NGPD: Argentina: GDP at Current Prices &amp; Exchange Rates (SA, US$) 2-qtr MovingAverage</td><td>Argentina: Real Gross Domestic Product at Market Prices (SA, Qtr/Qtr % Change)                                                                        </td><td>Externaldebt                                                                                                                                          </td></tr>\n",
       "\t<tr><td>37803                                                                                                                                             </td><td>#N/A                                                                                                                                              </td><td>-2.73                                                                                                                                             </td><td>#N/A                                                                                                                                              </td><td>#N/A                                                                                                                                              </td><td>101.14                                                                                                                                            </td></tr>\n",
       "</tbody>\n",
       "</table>\n"
      ],
      "text/latex": [
       "\\begin{tabular}{r|llllll}\n",
       " -164 \\#M NA\\_PreVal Disaggregate\\_All & movv(N213FGBP@EMERGELA,4) & yryr(movv(H213BCPG@EMERGELA,2)) & movv(H213acg@EMERGELA/H213NGPD@EMERGE,2)*100 & S213NGCP@EMERGELA & Argentina: Gross External Debt as a Percentage of GDP (\\%)\\\\\n",
       "\\hline\n",
       "\t .DESC                                                                                                                                                    & Argentina: Primary Surplus{[}+{]}/Deficit{[}-{]} as \\% of GDP (\\%) 4-qtr MovingAverage                                                                 & Argentina: BOP: Current Account Balance as a Percentage of GDP (SA, \\%)                                                                                 & H213ACG: Argentina: Balance of Payments: Goods (SA, US\\$) H213NGPD: Argentina: GDP at Current Prices \\& Exchange Rates (SA, US\\$) 2-qtr MovingAverage & Argentina: Real Gross Domestic Product at Market Prices (SA, Qtr/Qtr \\% Change)                                                                         & Externaldebt                                                                                                                                            \\\\\n",
       "\t 37803                                                                                                                                                & \\#N/A                                                                                                                                               & -2.73                                                                                                                                                & \\#N/A                                                                                                                                               & \\#N/A                                                                                                                                               & 101.14                                                                                                                                              \\\\\n",
       "\\end{tabular}\n"
      ],
      "text/markdown": [
       "\n",
       "| -164 #M NA_PreVal Disaggregate_All | movv(N213FGBP@EMERGELA,4) | yryr(movv(H213BCPG@EMERGELA,2)) | movv(H213acg@EMERGELA/H213NGPD@EMERGE,2)*100 | S213NGCP@EMERGELA | Argentina: Gross External Debt as a Percentage of GDP (%) |\n",
       "|---|---|---|---|---|---|\n",
       "| .DESC                                                                                                                                              | Argentina: Primary Surplus[+]/Deficit[-] as % of GDP (%) 4-qtr MovingAverage                                                                       | Argentina: BOP: Current Account Balance as a Percentage of GDP (SA, %)                                                                             | H213ACG: Argentina: Balance of Payments: Goods (SA, US$) H213NGPD: Argentina: GDP at Current Prices & Exchange Rates (SA, US$) 2-qtr MovingAverage | Argentina: Real Gross Domestic Product at Market Prices (SA, Qtr/Qtr % Change)                                                                     | Externaldebt                                                                                                                                       |\n",
       "| 37803                                                                                                                                              | #N/A                                                                                                                                               | -2.73                                                                                                                                              | #N/A                                                                                                                                               | #N/A                                                                                                                                               | 101.14                                                                                                                                             |\n",
       "\n"
      ],
      "text/plain": [
       "  -164 #M NA_PreVal Disaggregate_All\n",
       "1 .DESC                             \n",
       "2 37803                             \n",
       "  movv(N213FGBP@EMERGELA,4)                                                   \n",
       "1 Argentina: Primary Surplus[+]/Deficit[-] as % of GDP (%) 4-qtr MovingAverage\n",
       "2 #N/A                                                                        \n",
       "  yryr(movv(H213BCPG@EMERGELA,2))                                       \n",
       "1 Argentina: BOP: Current Account Balance as a Percentage of GDP (SA, %)\n",
       "2 -2.73                                                                 \n",
       "  movv(H213acg@EMERGELA/H213NGPD@EMERGE,2)*100                                                                                                      \n",
       "1 H213ACG: Argentina: Balance of Payments: Goods (SA, US$) H213NGPD: Argentina: GDP at Current Prices & Exchange Rates (SA, US$) 2-qtr MovingAverage\n",
       "2 #N/A                                                                                                                                              \n",
       "  S213NGCP@EMERGELA                                                             \n",
       "1 Argentina: Real Gross Domestic Product at Market Prices (SA, Qtr/Qtr % Change)\n",
       "2 #N/A                                                                          \n",
       "  Argentina: Gross External Debt as a Percentage of GDP (%)\n",
       "1 Externaldebt                                             \n",
       "2 101.14                                                   "
      ]
     },
     "metadata": {},
     "output_type": "display_data"
    }
   ],
   "source": [
    "library(readxl)\n",
    "df <- suppressMessages(read_excel(\"../data/xl/haver.xlsx\"))\n",
    "head(df,2)"
   ]
  },
  {
   "cell_type": "markdown",
   "metadata": {},
   "source": [
    "#### Run the following cell to see the help page for `read_excel` functio"
   ]
  },
  {
   "cell_type": "code",
   "execution_count": 3,
   "metadata": {},
   "outputs": [],
   "source": [
    "?read_excel"
   ]
  }
 ],
 "metadata": {
  "kernelspec": {
   "display_name": "R",
   "language": "R",
   "name": "ir"
  },
  "language_info": {
   "codemirror_mode": "r",
   "file_extension": ".r",
   "mimetype": "text/x-r-source",
   "name": "R",
   "pygments_lexer": "r",
   "version": "3.5.2"
  }
 },
 "nbformat": 4,
 "nbformat_minor": 2
}
