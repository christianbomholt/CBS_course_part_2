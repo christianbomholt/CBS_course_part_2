{
 "cells": [
  {
   "cell_type": "markdown",
   "metadata": {},
   "source": [
    "## Data cleaning at load\n",
    "\n",
    "One of the most common mistakes seen from proffesionals working with data is that they do not utilize the cleaning capabilities of their loading framework.\n",
    "\n",
    "###### Adding a few arguments to your load statement will save hours down the line\n",
    "\n",
    "###### It also has the added benefit of tidying your [ETL pipeline](https://en.wikipedia.org/wiki/Extract,_transform,_load) drastically.\n",
    "\n",
    "\n",
    "## Exercise 0.2\n",
    "\n",
    "- play around with the arguments for `read_csv`\n",
    "- `read_csv(path, argument1 = x, argument2 = y)`\n",
    "- Note the `type` of each of the columns when running `str(data)`  \n",
    "\n",
    "\n",
    "![](https://miro.medium.com/max/882/1*eVZyKIcUXOfzPrMTGx7yVw.png)"
   ]
  },
  {
   "cell_type": "code",
   "execution_count": 4,
   "metadata": {},
   "outputs": [
    {
     "data": {
      "text/html": [
       "<table>\n",
       "<thead><tr><th scope=col>Date</th><th scope=col>Logical</th><th scope=col>Integer</th><th scope=col>Real</th><th scope=col>Factor</th></tr></thead>\n",
       "<tbody>\n",
       "\t<tr><td>#NNAA        </td><td>#NNAA        </td><td>#NNAA        </td><td>#NNAA        </td><td>#NNAA        </td></tr>\n",
       "\t<tr><td>#NNAA        </td><td>#NNAA        </td><td>#NNAA        </td><td>#NNAA        </td><td>#NNAA        </td></tr>\n",
       "\t<tr><td>01/01/2013   </td><td>TRUE         </td><td>74           </td><td>67.64        </td><td>Washington.DC</td></tr>\n",
       "\t<tr><td>01/02/2013   </td><td>FALSE        </td><td>32           </td><td>52.42        </td><td>Denver       </td></tr>\n",
       "\t<tr><td>01/03/2013   </td><td>TRUE         </td><td>20           </td><td>52.42        </td><td>Atlanta      </td></tr>\n",
       "\t<tr><td>01/04/2013   </td><td>TRUE         </td><td>51           </td><td>77.96        </td><td>Seattle      </td></tr>\n",
       "</tbody>\n",
       "</table>\n"
      ],
      "text/latex": [
       "\\begin{tabular}{r|lllll}\n",
       " Date & Logical & Integer & Real & Factor\\\\\n",
       "\\hline\n",
       "\t \\#NNAA         & \\#NNAA         & \\#NNAA         & \\#NNAA         & \\#NNAA        \\\\\n",
       "\t \\#NNAA         & \\#NNAA         & \\#NNAA         & \\#NNAA         & \\#NNAA        \\\\\n",
       "\t 01/01/2013    & TRUE          & 74            & 67.64         & Washington.DC\\\\\n",
       "\t 01/02/2013    & FALSE         & 32            & 52.42         & Denver       \\\\\n",
       "\t 01/03/2013    & TRUE          & 20            & 52.42         & Atlanta      \\\\\n",
       "\t 01/04/2013    & TRUE          & 51            & 77.96         & Seattle      \\\\\n",
       "\\end{tabular}\n"
      ],
      "text/markdown": [
       "\n",
       "| Date | Logical | Integer | Real | Factor |\n",
       "|---|---|---|---|---|\n",
       "| #NNAA         | #NNAA         | #NNAA         | #NNAA         | #NNAA         |\n",
       "| #NNAA         | #NNAA         | #NNAA         | #NNAA         | #NNAA         |\n",
       "| 01/01/2013    | TRUE          | 74            | 67.64         | Washington.DC |\n",
       "| 01/02/2013    | FALSE         | 32            | 52.42         | Denver        |\n",
       "| 01/03/2013    | TRUE          | 20            | 52.42         | Atlanta       |\n",
       "| 01/04/2013    | TRUE          | 51            | 77.96         | Seattle       |\n",
       "\n"
      ],
      "text/plain": [
       "  Date       Logical Integer Real  Factor       \n",
       "1 #NNAA      #NNAA   #NNAA   #NNAA #NNAA        \n",
       "2 #NNAA      #NNAA   #NNAA   #NNAA #NNAA        \n",
       "3 01/01/2013 TRUE    74      67.64 Washington.DC\n",
       "4 01/02/2013 FALSE   32      52.42 Denver       \n",
       "5 01/03/2013 TRUE    20      52.42 Atlanta      \n",
       "6 01/04/2013 TRUE    51      77.96 Seattle      "
      ]
     },
     "metadata": {},
     "output_type": "display_data"
    }
   ],
   "source": [
    "library(readr)\n",
    "path <- \"../data/exercise.csv\"\n",
    "data <- read_csv(path, col_types = cols())\n",
    "head(data,6)"
   ]
  },
  {
   "cell_type": "code",
   "execution_count": 5,
   "metadata": {},
   "outputs": [
    {
     "name": "stdout",
     "output_type": "stream",
     "text": [
      "Classes ‘tbl_df’, ‘tbl’ and 'data.frame':\t2002 obs. of  5 variables:\n",
      " $ Date   : chr  \"#NNAA\" \"#NNAA\" \"01/01/2013\" \"01/02/2013\" ...\n",
      " $ Logical: chr  \"#NNAA\" \"#NNAA\" \"TRUE\" \"FALSE\" ...\n",
      " $ Integer: chr  \"#NNAA\" \"#NNAA\" \"74\" \"32\" ...\n",
      " $ Real   : chr  \"#NNAA\" \"#NNAA\" \"67.64\" \"52.42\" ...\n",
      " $ Factor : chr  \"#NNAA\" \"#NNAA\" \"Washington.DC\" \"Denver\" ...\n",
      " - attr(*, \"spec\")=\n",
      "  .. cols(\n",
      "  ..   Date = col_character(),\n",
      "  ..   Logical = col_character(),\n",
      "  ..   Integer = col_character(),\n",
      "  ..   Real = col_character(),\n",
      "  ..   Factor = col_character()\n",
      "  .. )\n"
     ]
    }
   ],
   "source": [
    "str(data)"
   ]
  },
  {
   "cell_type": "code",
   "execution_count": null,
   "metadata": {},
   "outputs": [],
   "source": []
  }
 ],
 "metadata": {
  "kernelspec": {
   "display_name": "R",
   "language": "R",
   "name": "ir"
  },
  "language_info": {
   "codemirror_mode": "r",
   "file_extension": ".r",
   "mimetype": "text/x-r-source",
   "name": "R",
   "pygments_lexer": "r",
   "version": "3.5.2"
  }
 },
 "nbformat": 4,
 "nbformat_minor": 2
}
