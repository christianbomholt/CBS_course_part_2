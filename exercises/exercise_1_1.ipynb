{
 "cells": [
  {
   "cell_type": "markdown",
   "metadata": {},
   "source": [
    "## Exercise 1.1\n",
    "\n",
    "Merging datasets is a well known disciplin in Data-science. This is done by joining rows using a common key\n",
    "\n",
    "- Join the 3 data sets together\n",
    "- Keep only flight data to and from Texas\n",
    "- How can we optimise these two steps\n",
    "\n",
    "![](https://www.eturbonews.com/wp-content/uploads/2018/03/0a1a1a-13.jpg)\n"
   ]
  },
  {
   "cell_type": "code",
   "execution_count": 4,
   "metadata": {},
   "outputs": [
    {
     "name": "stderr",
     "output_type": "stream",
     "text": [
      "Warning message:\n",
      "“2 parsing failures.\n",
      " row     col           expected actual                   file\n",
      "1252 airport delimiter or quote      B '../data/airports.csv'\n",
      "1252 airport delimiter or quote        '../data/airports.csv'\n",
      "”"
     ]
    }
   ],
   "source": [
    "library(readr)\n",
    "suppressMessages(library(dplyr))\n",
    "load(\"../data/flights.rdata\")\n",
    "airlines <- read_csv(\"../data/airlines.csv\", col_types = cols())\n",
    "airports <- read_csv(\"../data/airports.csv\", col_types = cols())"
   ]
  },
  {
   "cell_type": "code",
   "execution_count": 5,
   "metadata": {},
   "outputs": [
    {
     "data": {
      "text/html": [
       "<table>\n",
       "<thead><tr><th scope=col>IATA_CODE</th><th scope=col>AIRLINE</th></tr></thead>\n",
       "<tbody>\n",
       "\t<tr><td>UA                    </td><td>United Air Lines Inc. </td></tr>\n",
       "\t<tr><td>AA                    </td><td>American Airlines Inc.</td></tr>\n",
       "\t<tr><td>US                    </td><td>US Airways Inc.       </td></tr>\n",
       "\t<tr><td>F9                    </td><td>Frontier Airlines Inc.</td></tr>\n",
       "\t<tr><td>B6                    </td><td>JetBlue Airways       </td></tr>\n",
       "\t<tr><td>OO                    </td><td>Skywest Airlines Inc. </td></tr>\n",
       "</tbody>\n",
       "</table>\n"
      ],
      "text/latex": [
       "\\begin{tabular}{r|ll}\n",
       " IATA\\_CODE & AIRLINE\\\\\n",
       "\\hline\n",
       "\t UA                     & United Air Lines Inc. \\\\\n",
       "\t AA                     & American Airlines Inc.\\\\\n",
       "\t US                     & US Airways Inc.       \\\\\n",
       "\t F9                     & Frontier Airlines Inc.\\\\\n",
       "\t B6                     & JetBlue Airways       \\\\\n",
       "\t OO                     & Skywest Airlines Inc. \\\\\n",
       "\\end{tabular}\n"
      ],
      "text/markdown": [
       "\n",
       "| IATA_CODE | AIRLINE |\n",
       "|---|---|\n",
       "| UA                     | United Air Lines Inc.  |\n",
       "| AA                     | American Airlines Inc. |\n",
       "| US                     | US Airways Inc.        |\n",
       "| F9                     | Frontier Airlines Inc. |\n",
       "| B6                     | JetBlue Airways        |\n",
       "| OO                     | Skywest Airlines Inc.  |\n",
       "\n"
      ],
      "text/plain": [
       "  IATA_CODE AIRLINE               \n",
       "1 UA        United Air Lines Inc. \n",
       "2 AA        American Airlines Inc.\n",
       "3 US        US Airways Inc.       \n",
       "4 F9        Frontier Airlines Inc.\n",
       "5 B6        JetBlue Airways       \n",
       "6 OO        Skywest Airlines Inc. "
      ]
     },
     "metadata": {},
     "output_type": "display_data"
    }
   ],
   "source": [
    "airlines %>% head"
   ]
  },
  {
   "cell_type": "code",
   "execution_count": 7,
   "metadata": {},
   "outputs": [
    {
     "data": {
      "text/html": [
       "<table>\n",
       "<thead><tr><th scope=col>iata</th><th scope=col>airport</th><th scope=col>city</th><th scope=col>state</th><th scope=col>country</th><th scope=col>lat</th><th scope=col>long</th></tr></thead>\n",
       "<tbody>\n",
       "\t<tr><td>00M                 </td><td>Thigpen             </td><td>Bay Springs         </td><td>MS                  </td><td>USA                 </td><td>31.95376            </td><td> -89.23450          </td></tr>\n",
       "\t<tr><td>00R                 </td><td>Livingston Municipal</td><td>Livingston          </td><td>TX                  </td><td>USA                 </td><td>30.68586            </td><td> -95.01793          </td></tr>\n",
       "\t<tr><td>00V                 </td><td>Meadow Lake         </td><td>Colorado Springs    </td><td>CO                  </td><td>USA                 </td><td>38.94575            </td><td>-104.56989          </td></tr>\n",
       "\t<tr><td>01G                 </td><td>Perry-Warsaw        </td><td>Perry               </td><td>NY                  </td><td>USA                 </td><td>42.74135            </td><td> -78.05208          </td></tr>\n",
       "\t<tr><td>01J                 </td><td>Hilliard Airpark    </td><td>Hilliard            </td><td>FL                  </td><td>USA                 </td><td>30.68801            </td><td> -81.90594          </td></tr>\n",
       "\t<tr><td>01M                 </td><td>Tishomingo County   </td><td>Belmont             </td><td>MS                  </td><td>USA                 </td><td>34.49167            </td><td> -88.20111          </td></tr>\n",
       "</tbody>\n",
       "</table>\n"
      ],
      "text/latex": [
       "\\begin{tabular}{r|lllllll}\n",
       " iata & airport & city & state & country & lat & long\\\\\n",
       "\\hline\n",
       "\t 00M                  & Thigpen              & Bay Springs          & MS                   & USA                  & 31.95376             &  -89.23450          \\\\\n",
       "\t 00R                  & Livingston Municipal & Livingston           & TX                   & USA                  & 30.68586             &  -95.01793          \\\\\n",
       "\t 00V                  & Meadow Lake          & Colorado Springs     & CO                   & USA                  & 38.94575             & -104.56989          \\\\\n",
       "\t 01G                  & Perry-Warsaw         & Perry                & NY                   & USA                  & 42.74135             &  -78.05208          \\\\\n",
       "\t 01J                  & Hilliard Airpark     & Hilliard             & FL                   & USA                  & 30.68801             &  -81.90594          \\\\\n",
       "\t 01M                  & Tishomingo County    & Belmont              & MS                   & USA                  & 34.49167             &  -88.20111          \\\\\n",
       "\\end{tabular}\n"
      ],
      "text/markdown": [
       "\n",
       "| iata | airport | city | state | country | lat | long |\n",
       "|---|---|---|---|---|---|---|\n",
       "| 00M                  | Thigpen              | Bay Springs          | MS                   | USA                  | 31.95376             |  -89.23450           |\n",
       "| 00R                  | Livingston Municipal | Livingston           | TX                   | USA                  | 30.68586             |  -95.01793           |\n",
       "| 00V                  | Meadow Lake          | Colorado Springs     | CO                   | USA                  | 38.94575             | -104.56989           |\n",
       "| 01G                  | Perry-Warsaw         | Perry                | NY                   | USA                  | 42.74135             |  -78.05208           |\n",
       "| 01J                  | Hilliard Airpark     | Hilliard             | FL                   | USA                  | 30.68801             |  -81.90594           |\n",
       "| 01M                  | Tishomingo County    | Belmont              | MS                   | USA                  | 34.49167             |  -88.20111           |\n",
       "\n"
      ],
      "text/plain": [
       "  iata airport              city             state country lat      long      \n",
       "1 00M  Thigpen              Bay Springs      MS    USA     31.95376  -89.23450\n",
       "2 00R  Livingston Municipal Livingston       TX    USA     30.68586  -95.01793\n",
       "3 00V  Meadow Lake          Colorado Springs CO    USA     38.94575 -104.56989\n",
       "4 01G  Perry-Warsaw         Perry            NY    USA     42.74135  -78.05208\n",
       "5 01J  Hilliard Airpark     Hilliard         FL    USA     30.68801  -81.90594\n",
       "6 01M  Tishomingo County    Belmont          MS    USA     34.49167  -88.20111"
      ]
     },
     "metadata": {},
     "output_type": "display_data"
    }
   ],
   "source": [
    "airports %>% head"
   ]
  },
  {
   "cell_type": "code",
   "execution_count": 11,
   "metadata": {},
   "outputs": [
    {
     "data": {
      "text/html": [
       "<table>\n",
       "<thead><tr><th scope=col>YEAR</th><th scope=col>MONTH</th><th scope=col>DAY</th><th scope=col>DAY_OF_WEEK</th><th scope=col>AIRLINE</th><th scope=col>FLIGHT_NUMBER</th><th scope=col>TAIL_NUMBER</th><th scope=col>ORIGIN_AIRPORT</th><th scope=col>DESTINATION_AIRPORT</th><th scope=col>SCHEDULED_DEPARTURE</th><th scope=col>⋯</th><th scope=col>ARRIVAL_TIME</th><th scope=col>ARRIVAL_DELAY</th><th scope=col>DIVERTED</th><th scope=col>CANCELLED</th><th scope=col>CANCELLATION_REASON</th><th scope=col>AIR_SYSTEM_DELAY</th><th scope=col>SECURITY_DELAY</th><th scope=col>AIRLINE_DELAY</th><th scope=col>LATE_AIRCRAFT_DELAY</th><th scope=col>WEATHER_DELAY</th></tr></thead>\n",
       "<tbody>\n",
       "\t<tr><td>2015  </td><td>1     </td><td>1     </td><td>4     </td><td>AS    </td><td>  98  </td><td>N407AS</td><td>ANC   </td><td>SEA   </td><td>0005  </td><td>⋯     </td><td>0408  </td><td>-22   </td><td>0     </td><td>0     </td><td>NA    </td><td>NA    </td><td>NA    </td><td>NA    </td><td>NA    </td><td>NA    </td></tr>\n",
       "\t<tr><td>2015  </td><td>1     </td><td>1     </td><td>4     </td><td>AA    </td><td>2336  </td><td>N3KUAA</td><td>LAX   </td><td>PBI   </td><td>0010  </td><td>⋯     </td><td>0741  </td><td> -9   </td><td>0     </td><td>0     </td><td>NA    </td><td>NA    </td><td>NA    </td><td>NA    </td><td>NA    </td><td>NA    </td></tr>\n",
       "</tbody>\n",
       "</table>\n"
      ],
      "text/latex": [
       "\\begin{tabular}{r|lllllllllllllllllllllllllllllll}\n",
       " YEAR & MONTH & DAY & DAY\\_OF\\_WEEK & AIRLINE & FLIGHT\\_NUMBER & TAIL\\_NUMBER & ORIGIN\\_AIRPORT & DESTINATION\\_AIRPORT & SCHEDULED\\_DEPARTURE & ⋯ & ARRIVAL\\_TIME & ARRIVAL\\_DELAY & DIVERTED & CANCELLED & CANCELLATION\\_REASON & AIR\\_SYSTEM\\_DELAY & SECURITY\\_DELAY & AIRLINE\\_DELAY & LATE\\_AIRCRAFT\\_DELAY & WEATHER\\_DELAY\\\\\n",
       "\\hline\n",
       "\t 2015   & 1      & 1      & 4      & AS     &   98   & N407AS & ANC    & SEA    & 0005   & ⋯      & 0408   & -22    & 0      & 0      & NA     & NA     & NA     & NA     & NA     & NA    \\\\\n",
       "\t 2015   & 1      & 1      & 4      & AA     & 2336   & N3KUAA & LAX    & PBI    & 0010   & ⋯      & 0741   &  -9    & 0      & 0      & NA     & NA     & NA     & NA     & NA     & NA    \\\\\n",
       "\\end{tabular}\n"
      ],
      "text/markdown": [
       "\n",
       "| YEAR | MONTH | DAY | DAY_OF_WEEK | AIRLINE | FLIGHT_NUMBER | TAIL_NUMBER | ORIGIN_AIRPORT | DESTINATION_AIRPORT | SCHEDULED_DEPARTURE | ⋯ | ARRIVAL_TIME | ARRIVAL_DELAY | DIVERTED | CANCELLED | CANCELLATION_REASON | AIR_SYSTEM_DELAY | SECURITY_DELAY | AIRLINE_DELAY | LATE_AIRCRAFT_DELAY | WEATHER_DELAY |\n",
       "|---|---|---|---|---|---|---|---|---|---|---|---|---|---|---|---|---|---|---|---|---|\n",
       "| 2015   | 1      | 1      | 4      | AS     |   98   | N407AS | ANC    | SEA    | 0005   | ⋯      | 0408   | -22    | 0      | 0      | NA     | NA     | NA     | NA     | NA     | NA     |\n",
       "| 2015   | 1      | 1      | 4      | AA     | 2336   | N3KUAA | LAX    | PBI    | 0010   | ⋯      | 0741   |  -9    | 0      | 0      | NA     | NA     | NA     | NA     | NA     | NA     |\n",
       "\n"
      ],
      "text/plain": [
       "  YEAR MONTH DAY DAY_OF_WEEK AIRLINE FLIGHT_NUMBER TAIL_NUMBER ORIGIN_AIRPORT\n",
       "1 2015 1     1   4           AS        98          N407AS      ANC           \n",
       "2 2015 1     1   4           AA      2336          N3KUAA      LAX           \n",
       "  DESTINATION_AIRPORT SCHEDULED_DEPARTURE ⋯ ARRIVAL_TIME ARRIVAL_DELAY DIVERTED\n",
       "1 SEA                 0005                ⋯ 0408         -22           0       \n",
       "2 PBI                 0010                ⋯ 0741          -9           0       \n",
       "  CANCELLED CANCELLATION_REASON AIR_SYSTEM_DELAY SECURITY_DELAY AIRLINE_DELAY\n",
       "1 0         NA                  NA               NA             NA           \n",
       "2 0         NA                  NA               NA             NA           \n",
       "  LATE_AIRCRAFT_DELAY WEATHER_DELAY\n",
       "1 NA                  NA           \n",
       "2 NA                  NA           "
      ]
     },
     "metadata": {},
     "output_type": "display_data"
    }
   ],
   "source": [
    "flights %>% head(2)"
   ]
  },
  {
   "cell_type": "code",
   "execution_count": null,
   "metadata": {},
   "outputs": [],
   "source": []
  }
 ],
 "metadata": {
  "kernelspec": {
   "display_name": "R",
   "language": "R",
   "name": "ir"
  },
  "language_info": {
   "codemirror_mode": "r",
   "file_extension": ".r",
   "mimetype": "text/x-r-source",
   "name": "R",
   "pygments_lexer": "r",
   "version": "3.5.2"
  }
 },
 "nbformat": 4,
 "nbformat_minor": 2
}
